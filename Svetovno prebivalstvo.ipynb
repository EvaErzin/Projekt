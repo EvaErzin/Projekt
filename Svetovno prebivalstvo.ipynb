{
 "cells": [
  {
   "cell_type": "markdown",
   "metadata": {
    "collapsed": true
   },
   "source": [
    "# Svetovno prebivalstvo"
   ]
  },
  {
   "cell_type": "markdown",
   "metadata": {},
   "source": [
    "Projekt pri Programiranju 1 z namenom analize rasti prebivalstva glede na rast GDP."
   ]
  },
  {
   "cell_type": "markdown",
   "metadata": {},
   "source": [
    "## Priprava"
   ]
  },
  {
   "cell_type": "markdown",
   "metadata": {},
   "source": [
    "Začnemo z nalaganjem paketa pandas in razpredelnic, ki jih ustvarimo z ustvari_cvs.py. Podatki so v .txt obliki pridobljeni s strani https://www.cia.gov/library/publications/resources/the-world-factbook/."
   ]
  },
  {
   "cell_type": "code",
   "execution_count": 5,
   "metadata": {
    "collapsed": true
   },
   "outputs": [],
   "source": [
    "import pandas as pd\n",
    "\n",
    "pd.options.display.max_rows = 20\n",
    "pd.options.display.max_columns = 20\n",
    "\n",
    "GDP = pd.read_csv('csv-datoteke/GDP_na_prebivalca.csv', index_col='drzava')\n",
    "GDP_rast = pd.read_csv('csv-datoteke/GDP_rast.csv', index_col='drzava')\n",
    "populacija_rast = pd.read_csv('csv-datoteke/rast_populacije.csv', index_col='drzava')\n",
    "populacija = pd.read_csv('csv-datoteke/populacija.csv', index_col='drzava')"
   ]
  },
  {
   "cell_type": "code",
   "execution_count": 2,
   "metadata": {
    "collapsed": false
   },
   "outputs": [],
   "source": [
    "%matplotlib inline"
   ]
  },
  {
   "cell_type": "markdown",
   "metadata": {},
   "source": [
    "## Analiza "
   ]
  },
  {
   "cell_type": "markdown",
   "metadata": {},
   "source": [
    "Najprej bom izračunala povprečne vrednosti GDP, rasti GDP ter rasti prebivalstva."
   ]
  },
  {
   "cell_type": "code",
   "execution_count": 7,
   "metadata": {
    "collapsed": false
   },
   "outputs": [
    {
     "data": {
      "text/html": [
       "<div>\n",
       "<table border=\"1\" class=\"dataframe\">\n",
       "  <thead>\n",
       "    <tr style=\"text-align: right;\">\n",
       "      <th></th>\n",
       "      <th>GDP</th>\n",
       "      <th>Rast GDP</th>\n",
       "      <th>Rast populacije</th>\n",
       "      <th>Populacija</th>\n",
       "    </tr>\n",
       "    <tr>\n",
       "      <th>drzava</th>\n",
       "      <th></th>\n",
       "      <th></th>\n",
       "      <th></th>\n",
       "      <th></th>\n",
       "    </tr>\n",
       "  </thead>\n",
       "  <tbody>\n",
       "    <tr>\n",
       "      <th>Congo, Democratic Republic of the</th>\n",
       "      <td>450</td>\n",
       "      <td>6.6300</td>\n",
       "      <td>2.78750</td>\n",
       "      <td>71216379.3</td>\n",
       "    </tr>\n",
       "    <tr>\n",
       "      <th>Burundi</th>\n",
       "      <td>530</td>\n",
       "      <td>3.9500</td>\n",
       "      <td>3.30875</td>\n",
       "      <td>9682276.3</td>\n",
       "    </tr>\n",
       "    <tr>\n",
       "      <th>Somalia</th>\n",
       "      <td>600</td>\n",
       "      <td>2.5800</td>\n",
       "      <td>2.11250</td>\n",
       "      <td>9879251.6</td>\n",
       "    </tr>\n",
       "    <tr>\n",
       "      <th>Liberia</th>\n",
       "      <td>680</td>\n",
       "      <td>7.1300</td>\n",
       "      <td>2.74125</td>\n",
       "      <td>3665171.7</td>\n",
       "    </tr>\n",
       "    <tr>\n",
       "      <th>Central African Republic</th>\n",
       "      <td>810</td>\n",
       "      <td>1.3600</td>\n",
       "      <td>1.98000</td>\n",
       "      <td>4831638.2</td>\n",
       "    </tr>\n",
       "    <tr>\n",
       "      <th>Malawi</th>\n",
       "      <td>820</td>\n",
       "      <td>5.8100</td>\n",
       "      <td>2.80500</td>\n",
       "      <td>15458715.7</td>\n",
       "    </tr>\n",
       "    <tr>\n",
       "      <th>Niger</th>\n",
       "      <td>840</td>\n",
       "      <td>7.3000</td>\n",
       "      <td>3.38375</td>\n",
       "      <td>15510196.2</td>\n",
       "    </tr>\n",
       "    <tr>\n",
       "      <th>Eritrea</th>\n",
       "      <td>870</td>\n",
       "      <td>3.6700</td>\n",
       "      <td>2.44125</td>\n",
       "      <td>5780391.0</td>\n",
       "    </tr>\n",
       "    <tr>\n",
       "      <th>Zimbabwe</th>\n",
       "      <td>930</td>\n",
       "      <td>-0.2700</td>\n",
       "      <td>2.91375</td>\n",
       "      <td>12483062.0</td>\n",
       "    </tr>\n",
       "    <tr>\n",
       "      <th>Madagascar</th>\n",
       "      <td>990</td>\n",
       "      <td>3.2300</td>\n",
       "      <td>2.81250</td>\n",
       "      <td>21356738.4</td>\n",
       "    </tr>\n",
       "    <tr>\n",
       "      <th>...</th>\n",
       "      <td>...</td>\n",
       "      <td>...</td>\n",
       "      <td>...</td>\n",
       "      <td>...</td>\n",
       "    </tr>\n",
       "    <tr>\n",
       "      <th>United States</th>\n",
       "      <td>48200</td>\n",
       "      <td>2.3200</td>\n",
       "      <td>0.89250</td>\n",
       "      <td>310486283.1</td>\n",
       "    </tr>\n",
       "    <tr>\n",
       "      <th>Brunei</th>\n",
       "      <td>49270</td>\n",
       "      <td>0.8400</td>\n",
       "      <td>1.70250</td>\n",
       "      <td>399732.3</td>\n",
       "    </tr>\n",
       "    <tr>\n",
       "      <th>Macau</th>\n",
       "      <td>50540</td>\n",
       "      <td>9.2875</td>\n",
       "      <td>1.28375</td>\n",
       "      <td>549826.7</td>\n",
       "    </tr>\n",
       "    <tr>\n",
       "      <th>Norway</th>\n",
       "      <td>54790</td>\n",
       "      <td>2.6600</td>\n",
       "      <td>0.54125</td>\n",
       "      <td>4769734.8</td>\n",
       "    </tr>\n",
       "    <tr>\n",
       "      <th>Jersey</th>\n",
       "      <td>55300</td>\n",
       "      <td>-0.3000</td>\n",
       "      <td>0.67375</td>\n",
       "      <td>93757.6</td>\n",
       "    </tr>\n",
       "    <tr>\n",
       "      <th>Singapore</th>\n",
       "      <td>55300</td>\n",
       "      <td>6.2600</td>\n",
       "      <td>1.44750</td>\n",
       "      <td>4980824.3</td>\n",
       "    </tr>\n",
       "    <tr>\n",
       "      <th>Bermuda</th>\n",
       "      <td>74700</td>\n",
       "      <td>2.2700</td>\n",
       "      <td>0.56875</td>\n",
       "      <td>68183.5</td>\n",
       "    </tr>\n",
       "    <tr>\n",
       "      <th>Luxembourg</th>\n",
       "      <td>79650</td>\n",
       "      <td>2.7000</td>\n",
       "      <td>1.27375</td>\n",
       "      <td>504811.6</td>\n",
       "    </tr>\n",
       "    <tr>\n",
       "      <th>Liechtenstein</th>\n",
       "      <td>81380</td>\n",
       "      <td>4.3600</td>\n",
       "      <td>0.75125</td>\n",
       "      <td>35639.0</td>\n",
       "    </tr>\n",
       "    <tr>\n",
       "      <th>Qatar</th>\n",
       "      <td>102400</td>\n",
       "      <td>9.5400</td>\n",
       "      <td>2.43750</td>\n",
       "      <td>1345161.6</td>\n",
       "    </tr>\n",
       "  </tbody>\n",
       "</table>\n",
       "<p>225 rows × 4 columns</p>\n",
       "</div>"
      ],
      "text/plain": [
       "                                      GDP  Rast GDP  Rast populacije  \\\n",
       "drzava                                                                 \n",
       "Congo, Democratic Republic of the     450    6.6300          2.78750   \n",
       "Burundi                               530    3.9500          3.30875   \n",
       "Somalia                               600    2.5800          2.11250   \n",
       "Liberia                               680    7.1300          2.74125   \n",
       "Central African Republic              810    1.3600          1.98000   \n",
       "Malawi                                820    5.8100          2.80500   \n",
       "Niger                                 840    7.3000          3.38375   \n",
       "Eritrea                               870    3.6700          2.44125   \n",
       "Zimbabwe                              930   -0.2700          2.91375   \n",
       "Madagascar                            990    3.2300          2.81250   \n",
       "...                                   ...       ...              ...   \n",
       "United States                       48200    2.3200          0.89250   \n",
       "Brunei                              49270    0.8400          1.70250   \n",
       "Macau                               50540    9.2875          1.28375   \n",
       "Norway                              54790    2.6600          0.54125   \n",
       "Jersey                              55300   -0.3000          0.67375   \n",
       "Singapore                           55300    6.2600          1.44750   \n",
       "Bermuda                             74700    2.2700          0.56875   \n",
       "Luxembourg                          79650    2.7000          1.27375   \n",
       "Liechtenstein                       81380    4.3600          0.75125   \n",
       "Qatar                              102400    9.5400          2.43750   \n",
       "\n",
       "                                    Populacija  \n",
       "drzava                                          \n",
       "Congo, Democratic Republic of the   71216379.3  \n",
       "Burundi                              9682276.3  \n",
       "Somalia                              9879251.6  \n",
       "Liberia                              3665171.7  \n",
       "Central African Republic             4831638.2  \n",
       "Malawi                              15458715.7  \n",
       "Niger                               15510196.2  \n",
       "Eritrea                              5780391.0  \n",
       "Zimbabwe                            12483062.0  \n",
       "Madagascar                          21356738.4  \n",
       "...                                        ...  \n",
       "United States                      310486283.1  \n",
       "Brunei                                399732.3  \n",
       "Macau                                 549826.7  \n",
       "Norway                               4769734.8  \n",
       "Jersey                                 93757.6  \n",
       "Singapore                            4980824.3  \n",
       "Bermuda                                68183.5  \n",
       "Luxembourg                            504811.6  \n",
       "Liechtenstein                          35639.0  \n",
       "Qatar                                1345161.6  \n",
       "\n",
       "[225 rows x 4 columns]"
      ]
     },
     "execution_count": 7,
     "metadata": {},
     "output_type": "execute_result"
    }
   ],
   "source": [
    "povprecne = pd.concat([GDP.mean(1), GDP_rast.mean(1), populacija_rast.mean(1), populacija.mean(1)], axis=1, join='inner')\n",
    "povprecne = povprecne.rename(columns={1: 'Rast GDP', 2: 'Rast populacije', 0: 'GDP', 3: 'Populacija'})\n",
    "\n",
    "povprecne = povprecne.sort_values(by='GDP')\n",
    "povprecne"
   ]
  },
  {
   "cell_type": "code",
   "execution_count": 8,
   "metadata": {
    "collapsed": false
   },
   "outputs": [
    {
     "data": {
      "text/html": [
       "<div>\n",
       "<table border=\"1\" class=\"dataframe\">\n",
       "  <thead>\n",
       "    <tr style=\"text-align: right;\">\n",
       "      <th></th>\n",
       "      <th>GDP</th>\n",
       "      <th>Rast GDP</th>\n",
       "      <th>Rast populacije</th>\n",
       "      <th>Populacija</th>\n",
       "    </tr>\n",
       "  </thead>\n",
       "  <tbody>\n",
       "    <tr>\n",
       "      <th>GDP</th>\n",
       "      <td>1.000000</td>\n",
       "      <td>-0.139324</td>\n",
       "      <td>-0.257231</td>\n",
       "      <td>-0.034029</td>\n",
       "    </tr>\n",
       "    <tr>\n",
       "      <th>Rast GDP</th>\n",
       "      <td>-0.139324</td>\n",
       "      <td>1.000000</td>\n",
       "      <td>0.206691</td>\n",
       "      <td>0.052049</td>\n",
       "    </tr>\n",
       "    <tr>\n",
       "      <th>Rast populacije</th>\n",
       "      <td>-0.257231</td>\n",
       "      <td>0.206691</td>\n",
       "      <td>1.000000</td>\n",
       "      <td>-0.008880</td>\n",
       "    </tr>\n",
       "    <tr>\n",
       "      <th>Populacija</th>\n",
       "      <td>-0.034029</td>\n",
       "      <td>0.052049</td>\n",
       "      <td>-0.008880</td>\n",
       "      <td>1.000000</td>\n",
       "    </tr>\n",
       "  </tbody>\n",
       "</table>\n",
       "</div>"
      ],
      "text/plain": [
       "                      GDP  Rast GDP  Rast populacije  Populacija\n",
       "GDP              1.000000 -0.139324        -0.257231   -0.034029\n",
       "Rast GDP        -0.139324  1.000000         0.206691    0.052049\n",
       "Rast populacije -0.257231  0.206691         1.000000   -0.008880\n",
       "Populacija      -0.034029  0.052049        -0.008880    1.000000"
      ]
     },
     "execution_count": 8,
     "metadata": {},
     "output_type": "execute_result"
    }
   ],
   "source": [
    "povprecne.corr()"
   ]
  },
  {
   "cell_type": "markdown",
   "metadata": {},
   "source": [
    "Vidimo lahko, da je, če gledamo povprečne vrednosti, korelacija med rastjo populacije ter rastjo GDP majhna. Poglejmo, če bodo vrednosti različne, če izračunamo korelacijo med rastjo GDP in rastjo prebivalstva le za 10 držav z največjim in 10 držav z najmanjšim GDP."
   ]
  },
  {
   "cell_type": "code",
   "execution_count": 9,
   "metadata": {
    "collapsed": false
   },
   "outputs": [
    {
     "data": {
      "text/html": [
       "<div>\n",
       "<table border=\"1\" class=\"dataframe\">\n",
       "  <thead>\n",
       "    <tr style=\"text-align: right;\">\n",
       "      <th></th>\n",
       "      <th>GDP</th>\n",
       "      <th>Rast GDP</th>\n",
       "      <th>Rast populacije</th>\n",
       "      <th>Populacija</th>\n",
       "    </tr>\n",
       "  </thead>\n",
       "  <tbody>\n",
       "    <tr>\n",
       "      <th>GDP</th>\n",
       "      <td>1.000000</td>\n",
       "      <td>-0.369443</td>\n",
       "      <td>-0.021202</td>\n",
       "      <td>-0.462641</td>\n",
       "    </tr>\n",
       "    <tr>\n",
       "      <th>Rast GDP</th>\n",
       "      <td>-0.369443</td>\n",
       "      <td>1.000000</td>\n",
       "      <td>0.438877</td>\n",
       "      <td>0.341195</td>\n",
       "    </tr>\n",
       "    <tr>\n",
       "      <th>Rast populacije</th>\n",
       "      <td>-0.021202</td>\n",
       "      <td>0.438877</td>\n",
       "      <td>1.000000</td>\n",
       "      <td>0.172717</td>\n",
       "    </tr>\n",
       "    <tr>\n",
       "      <th>Populacija</th>\n",
       "      <td>-0.462641</td>\n",
       "      <td>0.341195</td>\n",
       "      <td>0.172717</td>\n",
       "      <td>1.000000</td>\n",
       "    </tr>\n",
       "  </tbody>\n",
       "</table>\n",
       "</div>"
      ],
      "text/plain": [
       "                      GDP  Rast GDP  Rast populacije  Populacija\n",
       "GDP              1.000000 -0.369443        -0.021202   -0.462641\n",
       "Rast GDP        -0.369443  1.000000         0.438877    0.341195\n",
       "Rast populacije -0.021202  0.438877         1.000000    0.172717\n",
       "Populacija      -0.462641  0.341195         0.172717    1.000000"
      ]
     },
     "execution_count": 9,
     "metadata": {},
     "output_type": "execute_result"
    }
   ],
   "source": [
    "najmanjsi = povprecne.head(10)\n",
    "najmanjsi.corr()"
   ]
  },
  {
   "cell_type": "code",
   "execution_count": 10,
   "metadata": {
    "collapsed": false
   },
   "outputs": [
    {
     "data": {
      "text/html": [
       "<div>\n",
       "<table border=\"1\" class=\"dataframe\">\n",
       "  <thead>\n",
       "    <tr style=\"text-align: right;\">\n",
       "      <th></th>\n",
       "      <th>GDP</th>\n",
       "      <th>Rast GDP</th>\n",
       "      <th>Rast populacije</th>\n",
       "      <th>Populacija</th>\n",
       "    </tr>\n",
       "  </thead>\n",
       "  <tbody>\n",
       "    <tr>\n",
       "      <th>GDP</th>\n",
       "      <td>1.000000</td>\n",
       "      <td>0.383846</td>\n",
       "      <td>0.399256</td>\n",
       "      <td>-0.330758</td>\n",
       "    </tr>\n",
       "    <tr>\n",
       "      <th>Rast GDP</th>\n",
       "      <td>0.383846</td>\n",
       "      <td>1.000000</td>\n",
       "      <td>0.592676</td>\n",
       "      <td>-0.171395</td>\n",
       "    </tr>\n",
       "    <tr>\n",
       "      <th>Rast populacije</th>\n",
       "      <td>0.399256</td>\n",
       "      <td>0.592676</td>\n",
       "      <td>1.000000</td>\n",
       "      <td>-0.154708</td>\n",
       "    </tr>\n",
       "    <tr>\n",
       "      <th>Populacija</th>\n",
       "      <td>-0.330758</td>\n",
       "      <td>-0.171395</td>\n",
       "      <td>-0.154708</td>\n",
       "      <td>1.000000</td>\n",
       "    </tr>\n",
       "  </tbody>\n",
       "</table>\n",
       "</div>"
      ],
      "text/plain": [
       "                      GDP  Rast GDP  Rast populacije  Populacija\n",
       "GDP              1.000000  0.383846         0.399256   -0.330758\n",
       "Rast GDP         0.383846  1.000000         0.592676   -0.171395\n",
       "Rast populacije  0.399256  0.592676         1.000000   -0.154708\n",
       "Populacija      -0.330758 -0.171395        -0.154708    1.000000"
      ]
     },
     "execution_count": 10,
     "metadata": {},
     "output_type": "execute_result"
    }
   ],
   "source": [
    "najvecji = povprecne.tail(10)\n",
    "najvecji.corr()"
   ]
  },
  {
   "cell_type": "markdown",
   "metadata": {
    "collapsed": true
   },
   "source": [
    "V teh primerih je korelacija že večja, vendar to najverjetneje vseeno ni najboljši pokazatelj dejanskega stanja, zato si izberimo nekaj držav in za vsako izmed njih podrobneje analiziranjmo odvisnost rasti prebivalstva od rasti GDP."
   ]
  },
  {
   "cell_type": "code",
   "execution_count": 16,
   "metadata": {
    "collapsed": false
   },
   "outputs": [
    {
     "data": {
      "text/html": [
       "<div>\n",
       "<table border=\"1\" class=\"dataframe\">\n",
       "  <thead>\n",
       "    <tr style=\"text-align: right;\">\n",
       "      <th></th>\n",
       "      <th>GDP</th>\n",
       "      <th>Rast GDP</th>\n",
       "      <th>Rast prebivalstva</th>\n",
       "      <th>Prebivalstvo</th>\n",
       "    </tr>\n",
       "  </thead>\n",
       "  <tbody>\n",
       "    <tr>\n",
       "      <th>GDP</th>\n",
       "      <td>1.000000</td>\n",
       "      <td>0.475617</td>\n",
       "      <td>-0.628132</td>\n",
       "      <td>-0.122356</td>\n",
       "    </tr>\n",
       "    <tr>\n",
       "      <th>Rast GDP</th>\n",
       "      <td>0.475617</td>\n",
       "      <td>1.000000</td>\n",
       "      <td>-0.606987</td>\n",
       "      <td>0.272725</td>\n",
       "    </tr>\n",
       "    <tr>\n",
       "      <th>Rast prebivalstva</th>\n",
       "      <td>-0.628132</td>\n",
       "      <td>-0.606987</td>\n",
       "      <td>1.000000</td>\n",
       "      <td>-0.884903</td>\n",
       "    </tr>\n",
       "    <tr>\n",
       "      <th>Prebivalstvo</th>\n",
       "      <td>-0.122356</td>\n",
       "      <td>0.272725</td>\n",
       "      <td>-0.884903</td>\n",
       "      <td>1.000000</td>\n",
       "    </tr>\n",
       "  </tbody>\n",
       "</table>\n",
       "</div>"
      ],
      "text/plain": [
       "                        GDP  Rast GDP  Rast prebivalstva  Prebivalstvo\n",
       "GDP                1.000000  0.475617          -0.628132     -0.122356\n",
       "Rast GDP           0.475617  1.000000          -0.606987      0.272725\n",
       "Rast prebivalstva -0.628132 -0.606987           1.000000     -0.884903\n",
       "Prebivalstvo      -0.122356  0.272725          -0.884903      1.000000"
      ]
     },
     "execution_count": 16,
     "metadata": {},
     "output_type": "execute_result"
    }
   ],
   "source": [
    "kongo = pd.concat([GDP.loc['Congo, Democratic Republic of the'], \n",
    "                   GDP_rast.loc['Congo, Democratic Republic of the'], \n",
    "                   populacija_rast.loc['Congo, Democratic Republic of the'],\n",
    "                   populacija.loc['Congo, Democratic Republic of the']\n",
    "                  ], axis=1) \n",
    "kongo.columns = ['GDP', 'Rast GDP', 'Rast prebivalstva', 'Prebivalstvo']\n",
    "kongo.corr()"
   ]
  },
  {
   "cell_type": "code",
   "execution_count": 54,
   "metadata": {
    "collapsed": false
   },
   "outputs": [
    {
     "data": {
      "text/plain": [
       "<matplotlib.axes._subplots.AxesSubplot at 0x5de8090>"
      ]
     },
     "execution_count": 54,
     "metadata": {},
     "output_type": "execute_result"
    },
    {
     "data": {
      "image/png": "[encoded data removed]",
      "text/plain": [
       "<matplotlib.figure.Figure at 0x5dfb7f0>"
      ]
     },
     "metadata": {},
     "output_type": "display_data"
    }
   ],
   "source": [
    "kongo[['Rast GDP', 'Rast prebivalstva']].plot()"
   ]
  },
  {
   "cell_type": "code",
   "execution_count": 17,
   "metadata": {
    "collapsed": false
   },
   "outputs": [
    {
     "data": {
      "text/html": [
       "<div>\n",
       "<table border=\"1\" class=\"dataframe\">\n",
       "  <thead>\n",
       "    <tr style=\"text-align: right;\">\n",
       "      <th></th>\n",
       "      <th>GDP</th>\n",
       "      <th>Rast GDP</th>\n",
       "      <th>Rast prebivalstva</th>\n",
       "      <th>Prebivalstvo</th>\n",
       "    </tr>\n",
       "  </thead>\n",
       "  <tbody>\n",
       "    <tr>\n",
       "      <th>GDP</th>\n",
       "      <td>1.000000</td>\n",
       "      <td>0.066954</td>\n",
       "      <td>-0.278831</td>\n",
       "      <td>-0.061801</td>\n",
       "    </tr>\n",
       "    <tr>\n",
       "      <th>Rast GDP</th>\n",
       "      <td>0.066954</td>\n",
       "      <td>1.000000</td>\n",
       "      <td>0.201563</td>\n",
       "      <td>0.413791</td>\n",
       "    </tr>\n",
       "    <tr>\n",
       "      <th>Rast prebivalstva</th>\n",
       "      <td>-0.278831</td>\n",
       "      <td>0.201563</td>\n",
       "      <td>1.000000</td>\n",
       "      <td>0.273702</td>\n",
       "    </tr>\n",
       "    <tr>\n",
       "      <th>Prebivalstvo</th>\n",
       "      <td>-0.061801</td>\n",
       "      <td>0.413791</td>\n",
       "      <td>0.273702</td>\n",
       "      <td>1.000000</td>\n",
       "    </tr>\n",
       "  </tbody>\n",
       "</table>\n",
       "</div>"
      ],
      "text/plain": [
       "                        GDP  Rast GDP  Rast prebivalstva  Prebivalstvo\n",
       "GDP                1.000000  0.066954          -0.278831     -0.061801\n",
       "Rast GDP           0.066954  1.000000           0.201563      0.413791\n",
       "Rast prebivalstva -0.278831  0.201563           1.000000      0.273702\n",
       "Prebivalstvo      -0.061801  0.413791           0.273702      1.000000"
      ]
     },
     "execution_count": 17,
     "metadata": {},
     "output_type": "execute_result"
    }
   ],
   "source": [
    "niger = pd.concat([GDP.loc['Niger'], \n",
    "                   GDP_rast.loc['Niger'], \n",
    "                   populacija_rast.loc['Niger'],\n",
    "                   populacija.loc['Niger']\n",
    "                  ], axis=1) \n",
    "niger.columns = ['GDP', 'Rast GDP', 'Rast prebivalstva', 'Prebivalstvo']\n",
    "niger.corr()"
   ]
  },
  {
   "cell_type": "code",
   "execution_count": 25,
   "metadata": {
    "collapsed": false
   },
   "outputs": [
    {
     "data": {
      "text/plain": [
       "<matplotlib.axes._subplots.AxesSubplot at 0x660bdf0>"
      ]
     },
     "execution_count": 25,
     "metadata": {},
     "output_type": "execute_result"
    },
    {
     "data": {
      "image/png": "[encoded data removed]",
      "text/plain": [
       "<matplotlib.figure.Figure at 0x5dafd30>"
      ]
     },
     "metadata": {},
     "output_type": "display_data"
    }
   ],
   "source": [
    "niger[['Rast GDP', 'Rast prebivalstva']].plot()"
   ]
  },
  {
   "cell_type": "code",
   "execution_count": 21,
   "metadata": {
    "collapsed": false
   },
   "outputs": [
    {
     "data": {
      "text/html": [
       "<div>\n",
       "<table border=\"1\" class=\"dataframe\">\n",
       "  <thead>\n",
       "    <tr style=\"text-align: right;\">\n",
       "      <th></th>\n",
       "      <th>GDP</th>\n",
       "      <th>Rast GDP</th>\n",
       "      <th>Rast prebivalstva</th>\n",
       "      <th>Prebivalstvo</th>\n",
       "    </tr>\n",
       "  </thead>\n",
       "  <tbody>\n",
       "    <tr>\n",
       "      <th>GDP</th>\n",
       "      <td>1.000000</td>\n",
       "      <td>-0.339688</td>\n",
       "      <td>-0.040091</td>\n",
       "      <td>-0.563482</td>\n",
       "    </tr>\n",
       "    <tr>\n",
       "      <th>Rast GDP</th>\n",
       "      <td>-0.339688</td>\n",
       "      <td>1.000000</td>\n",
       "      <td>0.573139</td>\n",
       "      <td>0.606669</td>\n",
       "    </tr>\n",
       "    <tr>\n",
       "      <th>Rast prebivalstva</th>\n",
       "      <td>-0.040091</td>\n",
       "      <td>0.573139</td>\n",
       "      <td>1.000000</td>\n",
       "      <td>0.989322</td>\n",
       "    </tr>\n",
       "    <tr>\n",
       "      <th>Prebivalstvo</th>\n",
       "      <td>-0.563482</td>\n",
       "      <td>0.606669</td>\n",
       "      <td>0.989322</td>\n",
       "      <td>1.000000</td>\n",
       "    </tr>\n",
       "  </tbody>\n",
       "</table>\n",
       "</div>"
      ],
      "text/plain": [
       "                        GDP  Rast GDP  Rast prebivalstva  Prebivalstvo\n",
       "GDP                1.000000 -0.339688          -0.040091     -0.563482\n",
       "Rast GDP          -0.339688  1.000000           0.573139      0.606669\n",
       "Rast prebivalstva -0.040091  0.573139           1.000000      0.989322\n",
       "Prebivalstvo      -0.563482  0.606669           0.989322      1.000000"
      ]
     },
     "execution_count": 21,
     "metadata": {},
     "output_type": "execute_result"
    }
   ],
   "source": [
    "slovenija = pd.concat([GDP.loc['Slovenia'], \n",
    "                       GDP_rast.loc['Slovenia'], \n",
    "                       populacija_rast.loc['Slovenia'],\n",
    "                       populacija.loc['Slovenia']\n",
    "                      ], axis=1) \n",
    "slovenija.columns = ['GDP', 'Rast GDP', 'Rast prebivalstva', 'Prebivalstvo']\n",
    "slovenija.corr()"
   ]
  },
  {
   "cell_type": "code",
   "execution_count": 26,
   "metadata": {
    "collapsed": false
   },
   "outputs": [
    {
     "data": {
      "text/plain": [
       "<matplotlib.axes._subplots.AxesSubplot at 0x5ea62d0>"
      ]
     },
     "execution_count": 26,
     "metadata": {},
     "output_type": "execute_result"
    },
    {
     "data": {
      "image/png": "[encoded data removed]",
      "text/plain": [
       "<matplotlib.figure.Figure at 0x5eab430>"
      ]
     },
     "metadata": {},
     "output_type": "display_data"
    }
   ],
   "source": [
    "slovenija[['Rast GDP', 'Rast prebivalstva']].plot()"
   ]
  },
  {
   "cell_type": "code",
   "execution_count": 30,
   "metadata": {
    "collapsed": false
   },
   "outputs": [
    {
     "data": {
      "text/plain": [
       "<matplotlib.axes._subplots.AxesSubplot at 0x687c070>"
      ]
     },
     "execution_count": 30,
     "metadata": {},
     "output_type": "execute_result"
    },
    {
     "data": {
      "image/png": "[encoded data removed]",
      "text/plain": [
       "<matplotlib.figure.Figure at 0x5eafaf0>"
      ]
     },
     "metadata": {},
     "output_type": "display_data"
    }
   ],
   "source": [
    "ZDA[['Rast GDP', 'Rast prebivalstva']].plot()"
   ]
  },
  {
   "cell_type": "code",
   "execution_count": 22,
   "metadata": {
    "collapsed": false
   },
   "outputs": [
    {
     "data": {
      "text/html": [
       "<div>\n",
       "<table border=\"1\" class=\"dataframe\">\n",
       "  <thead>\n",
       "    <tr style=\"text-align: right;\">\n",
       "      <th></th>\n",
       "      <th>GDP</th>\n",
       "      <th>Rast GDP</th>\n",
       "      <th>Rast prebivalstva</th>\n",
       "      <th>Prebivalstvo</th>\n",
       "    </tr>\n",
       "  </thead>\n",
       "  <tbody>\n",
       "    <tr>\n",
       "      <th>GDP</th>\n",
       "      <td>1.000000</td>\n",
       "      <td>-0.277833</td>\n",
       "      <td>-0.785759</td>\n",
       "      <td>0.968048</td>\n",
       "    </tr>\n",
       "    <tr>\n",
       "      <th>Rast GDP</th>\n",
       "      <td>-0.277833</td>\n",
       "      <td>1.000000</td>\n",
       "      <td>-0.025126</td>\n",
       "      <td>-0.152015</td>\n",
       "    </tr>\n",
       "    <tr>\n",
       "      <th>Rast prebivalstva</th>\n",
       "      <td>-0.785759</td>\n",
       "      <td>-0.025126</td>\n",
       "      <td>1.000000</td>\n",
       "      <td>-0.661380</td>\n",
       "    </tr>\n",
       "    <tr>\n",
       "      <th>Prebivalstvo</th>\n",
       "      <td>0.968048</td>\n",
       "      <td>-0.152015</td>\n",
       "      <td>-0.661380</td>\n",
       "      <td>1.000000</td>\n",
       "    </tr>\n",
       "  </tbody>\n",
       "</table>\n",
       "</div>"
      ],
      "text/plain": [
       "                        GDP  Rast GDP  Rast prebivalstva  Prebivalstvo\n",
       "GDP                1.000000 -0.277833          -0.785759      0.968048\n",
       "Rast GDP          -0.277833  1.000000          -0.025126     -0.152015\n",
       "Rast prebivalstva -0.785759 -0.025126           1.000000     -0.661380\n",
       "Prebivalstvo       0.968048 -0.152015          -0.661380      1.000000"
      ]
     },
     "execution_count": 22,
     "metadata": {},
     "output_type": "execute_result"
    }
   ],
   "source": [
    "ZDA = pd.concat([GDP.loc['United States'], \n",
    "                 GDP_rast.loc['United States'], \n",
    "                 populacija_rast.loc['United States'],\n",
    "                 populacija.loc['United States']\n",
    "                  ], axis=1) \n",
    "ZDA.columns = ['GDP', 'Rast GDP', 'Rast prebivalstva', 'Prebivalstvo']\n",
    "ZDA.corr()"
   ]
  },
  {
   "cell_type": "code",
   "execution_count": 27,
   "metadata": {
    "collapsed": false
   },
   "outputs": [
    {
     "data": {
      "text/plain": [
       "<matplotlib.axes._subplots.AxesSubplot at 0x6182cd0>"
      ]
     },
     "execution_count": 27,
     "metadata": {},
     "output_type": "execute_result"
    },
    {
     "data": {
      "image/png": "[encoded data removed]",
      "text/plain": [
       "<matplotlib.figure.Figure at 0x6c2a8d0>"
      ]
     },
     "metadata": {},
     "output_type": "display_data"
    }
   ],
   "source": [
    "ZDA[['Rast GDP', 'Rast prebivalstva']].plot()"
   ]
  },
  {
   "cell_type": "code",
   "execution_count": 24,
   "metadata": {
    "collapsed": false
   },
   "outputs": [
    {
     "data": {
      "text/html": [
       "<div>\n",
       "<table border=\"1\" class=\"dataframe\">\n",
       "  <thead>\n",
       "    <tr style=\"text-align: right;\">\n",
       "      <th></th>\n",
       "      <th>GDP</th>\n",
       "      <th>Rast GDP</th>\n",
       "      <th>Rast prebivalstva</th>\n",
       "      <th>Prebivalstvo</th>\n",
       "    </tr>\n",
       "  </thead>\n",
       "  <tbody>\n",
       "    <tr>\n",
       "      <th>GDP</th>\n",
       "      <td>1.000000</td>\n",
       "      <td>0.478420</td>\n",
       "      <td>-0.454708</td>\n",
       "      <td>0.141275</td>\n",
       "    </tr>\n",
       "    <tr>\n",
       "      <th>Rast GDP</th>\n",
       "      <td>0.478420</td>\n",
       "      <td>1.000000</td>\n",
       "      <td>-0.780742</td>\n",
       "      <td>-0.702358</td>\n",
       "    </tr>\n",
       "    <tr>\n",
       "      <th>Rast prebivalstva</th>\n",
       "      <td>-0.454708</td>\n",
       "      <td>-0.780742</td>\n",
       "      <td>1.000000</td>\n",
       "      <td>0.912241</td>\n",
       "    </tr>\n",
       "    <tr>\n",
       "      <th>Prebivalstvo</th>\n",
       "      <td>0.141275</td>\n",
       "      <td>-0.702358</td>\n",
       "      <td>0.912241</td>\n",
       "      <td>1.000000</td>\n",
       "    </tr>\n",
       "  </tbody>\n",
       "</table>\n",
       "</div>"
      ],
      "text/plain": [
       "                        GDP  Rast GDP  Rast prebivalstva  Prebivalstvo\n",
       "GDP                1.000000  0.478420          -0.454708      0.141275\n",
       "Rast GDP           0.478420  1.000000          -0.780742     -0.702358\n",
       "Rast prebivalstva -0.454708 -0.780742           1.000000      0.912241\n",
       "Prebivalstvo       0.141275 -0.702358           0.912241      1.000000"
      ]
     },
     "execution_count": 24,
     "metadata": {},
     "output_type": "execute_result"
    }
   ],
   "source": [
    "katar = pd.concat([GDP.loc['Qatar'], \n",
    "                   GDP_rast.loc['Qatar'], \n",
    "                   populacija_rast.loc['Qatar'],\n",
    "                   populacija.loc['Qatar']\n",
    "                  ], axis=1) \n",
    "katar.columns = ['GDP', 'Rast GDP', 'Rast prebivalstva', 'Prebivalstvo']\n",
    "katar.corr()"
   ]
  },
  {
   "cell_type": "code",
   "execution_count": 28,
   "metadata": {
    "collapsed": false
   },
   "outputs": [
    {
     "data": {
      "text/plain": [
       "<matplotlib.axes._subplots.AxesSubplot at 0x6c02590>"
      ]
     },
     "execution_count": 28,
     "metadata": {},
     "output_type": "execute_result"
    },
    {
     "data": {
      "image/png": "[encoded data removed]",
      "text/plain": [
       "<matplotlib.figure.Figure at 0x68238d0>"
      ]
     },
     "metadata": {},
     "output_type": "display_data"
    }
   ],
   "source": [
    "katar[['Rast GDP', 'Rast prebivalstva']].plot()"
   ]
  },
  {
   "cell_type": "markdown",
   "metadata": {},
   "source": [
    "Poglejmo še, če če korelacija spreminja glede na število prebivalstva držav."
   ]
  },
  {
   "cell_type": "code",
   "execution_count": 34,
   "metadata": {
    "collapsed": false
   },
   "outputs": [
    {
     "data": {
      "text/html": [
       "<div>\n",
       "<table border=\"1\" class=\"dataframe\">\n",
       "  <thead>\n",
       "    <tr style=\"text-align: right;\">\n",
       "      <th></th>\n",
       "      <th>GDP</th>\n",
       "      <th>Rast GDP</th>\n",
       "      <th>Rast populacije</th>\n",
       "      <th>Populacija</th>\n",
       "    </tr>\n",
       "    <tr>\n",
       "      <th>drzava</th>\n",
       "      <th></th>\n",
       "      <th></th>\n",
       "      <th></th>\n",
       "      <th></th>\n",
       "    </tr>\n",
       "  </thead>\n",
       "  <tbody>\n",
       "    <tr>\n",
       "      <th>Niue</th>\n",
       "      <td>5800.000000</td>\n",
       "      <td>6.200000</td>\n",
       "      <td>-0.030000</td>\n",
       "      <td>1.404300e+03</td>\n",
       "    </tr>\n",
       "    <tr>\n",
       "      <th>Montserrat</th>\n",
       "      <td>5440.000000</td>\n",
       "      <td>0.800000</td>\n",
       "      <td>0.436250</td>\n",
       "      <td>6.022000e+03</td>\n",
       "    </tr>\n",
       "    <tr>\n",
       "      <th>Nauru</th>\n",
       "      <td>5980.000000</td>\n",
       "      <td>8.000000</td>\n",
       "      <td>0.877500</td>\n",
       "      <td>1.110330e+04</td>\n",
       "    </tr>\n",
       "    <tr>\n",
       "      <th>Tuvalu</th>\n",
       "      <td>2490.000000</td>\n",
       "      <td>1.630000</td>\n",
       "      <td>0.960000</td>\n",
       "      <td>1.123360e+04</td>\n",
       "    </tr>\n",
       "    <tr>\n",
       "      <th>Cook Islands</th>\n",
       "      <td>9100.000000</td>\n",
       "      <td>0.100000</td>\n",
       "      <td>-3.131429</td>\n",
       "      <td>1.310870e+04</td>\n",
       "    </tr>\n",
       "    <tr>\n",
       "      <th>Anguilla</th>\n",
       "      <td>10840.000000</td>\n",
       "      <td>-1.020000</td>\n",
       "      <td>2.167500</td>\n",
       "      <td>1.492390e+04</td>\n",
       "    </tr>\n",
       "    <tr>\n",
       "      <th>Palau</th>\n",
       "      <td>9030.000000</td>\n",
       "      <td>5.242857</td>\n",
       "      <td>0.475000</td>\n",
       "      <td>2.097360e+04</td>\n",
       "    </tr>\n",
       "    <tr>\n",
       "      <th>British Virgin Islands</th>\n",
       "      <td>39640.000000</td>\n",
       "      <td>0.610000</td>\n",
       "      <td>2.095000</td>\n",
       "      <td>2.746980e+04</td>\n",
       "    </tr>\n",
       "    <tr>\n",
       "      <th>Gibraltar</th>\n",
       "      <td>38560.000000</td>\n",
       "      <td>5.962500</td>\n",
       "      <td>0.225000</td>\n",
       "      <td>2.863520e+04</td>\n",
       "    </tr>\n",
       "    <tr>\n",
       "      <th>San Marino</th>\n",
       "      <td>35544.444444</td>\n",
       "      <td>-0.400000</td>\n",
       "      <td>1.010000</td>\n",
       "      <td>3.128070e+04</td>\n",
       "    </tr>\n",
       "    <tr>\n",
       "      <th>...</th>\n",
       "      <td>...</td>\n",
       "      <td>...</td>\n",
       "      <td>...</td>\n",
       "      <td>...</td>\n",
       "    </tr>\n",
       "    <tr>\n",
       "      <th>Nigeria</th>\n",
       "      <td>2650.000000</td>\n",
       "      <td>6.530000</td>\n",
       "      <td>2.243750</td>\n",
       "      <td>1.573157e+08</td>\n",
       "    </tr>\n",
       "    <tr>\n",
       "      <th>Bangladesh</th>\n",
       "      <td>2020.000000</td>\n",
       "      <td>6.120000</td>\n",
       "      <td>1.600000</td>\n",
       "      <td>1.582078e+08</td>\n",
       "    </tr>\n",
       "    <tr>\n",
       "      <th>Pakistan</th>\n",
       "      <td>2860.000000</td>\n",
       "      <td>4.510000</td>\n",
       "      <td>1.641250</td>\n",
       "      <td>1.830126e+08</td>\n",
       "    </tr>\n",
       "    <tr>\n",
       "      <th>Brazil</th>\n",
       "      <td>11050.000000</td>\n",
       "      <td>3.610000</td>\n",
       "      <td>0.998750</td>\n",
       "      <td>1.984951e+08</td>\n",
       "    </tr>\n",
       "    <tr>\n",
       "      <th>Indonesia</th>\n",
       "      <td>4930.000000</td>\n",
       "      <td>5.810000</td>\n",
       "      <td>1.047500</td>\n",
       "      <td>2.455920e+08</td>\n",
       "    </tr>\n",
       "    <tr>\n",
       "      <th>United States</th>\n",
       "      <td>48200.000000</td>\n",
       "      <td>2.320000</td>\n",
       "      <td>0.892500</td>\n",
       "      <td>3.104863e+08</td>\n",
       "    </tr>\n",
       "    <tr>\n",
       "      <th>European Union</th>\n",
       "      <td>33250.000000</td>\n",
       "      <td>1.330000</td>\n",
       "      <td>0.110000</td>\n",
       "      <td>4.955246e+08</td>\n",
       "    </tr>\n",
       "    <tr>\n",
       "      <th>India</th>\n",
       "      <td>3710.000000</td>\n",
       "      <td>7.200000</td>\n",
       "      <td>1.363750</td>\n",
       "      <td>1.181549e+09</td>\n",
       "    </tr>\n",
       "    <tr>\n",
       "      <th>China</th>\n",
       "      <td>8220.000000</td>\n",
       "      <td>9.330000</td>\n",
       "      <td>0.512500</td>\n",
       "      <td>1.338735e+09</td>\n",
       "    </tr>\n",
       "    <tr>\n",
       "      <th>World</th>\n",
       "      <td>10260.000000</td>\n",
       "      <td>4.540000</td>\n",
       "      <td>1.163333</td>\n",
       "      <td>6.611463e+09</td>\n",
       "    </tr>\n",
       "  </tbody>\n",
       "</table>\n",
       "<p>225 rows × 4 columns</p>\n",
       "</div>"
      ],
      "text/plain": [
       "                                 GDP  Rast GDP  Rast populacije    Populacija\n",
       "drzava                                                                       \n",
       "Niue                     5800.000000  6.200000        -0.030000  1.404300e+03\n",
       "Montserrat               5440.000000  0.800000         0.436250  6.022000e+03\n",
       "Nauru                    5980.000000  8.000000         0.877500  1.110330e+04\n",
       "Tuvalu                   2490.000000  1.630000         0.960000  1.123360e+04\n",
       "Cook Islands             9100.000000  0.100000        -3.131429  1.310870e+04\n",
       "Anguilla                10840.000000 -1.020000         2.167500  1.492390e+04\n",
       "Palau                    9030.000000  5.242857         0.475000  2.097360e+04\n",
       "British Virgin Islands  39640.000000  0.610000         2.095000  2.746980e+04\n",
       "Gibraltar               38560.000000  5.962500         0.225000  2.863520e+04\n",
       "San Marino              35544.444444 -0.400000         1.010000  3.128070e+04\n",
       "...                              ...       ...              ...           ...\n",
       "Nigeria                  2650.000000  6.530000         2.243750  1.573157e+08\n",
       "Bangladesh               2020.000000  6.120000         1.600000  1.582078e+08\n",
       "Pakistan                 2860.000000  4.510000         1.641250  1.830126e+08\n",
       "Brazil                  11050.000000  3.610000         0.998750  1.984951e+08\n",
       "Indonesia                4930.000000  5.810000         1.047500  2.455920e+08\n",
       "United States           48200.000000  2.320000         0.892500  3.104863e+08\n",
       "European Union          33250.000000  1.330000         0.110000  4.955246e+08\n",
       "India                    3710.000000  7.200000         1.363750  1.181549e+09\n",
       "China                    8220.000000  9.330000         0.512500  1.338735e+09\n",
       "World                   10260.000000  4.540000         1.163333  6.611463e+09\n",
       "\n",
       "[225 rows x 4 columns]"
      ]
     },
     "execution_count": 34,
     "metadata": {},
     "output_type": "execute_result"
    }
   ],
   "source": [
    "povprecne_stevilo = povprecne.sort_values(by='Populacija')\n",
    "povprecne_stevilo"
   ]
  },
  {
   "cell_type": "code",
   "execution_count": 29,
   "metadata": {
    "collapsed": false
   },
   "outputs": [
    {
     "data": {
      "text/html": [
       "<div>\n",
       "<table border=\"1\" class=\"dataframe\">\n",
       "  <thead>\n",
       "    <tr style=\"text-align: right;\">\n",
       "      <th></th>\n",
       "      <th>GDP</th>\n",
       "      <th>Rast GDP</th>\n",
       "      <th>Rast prebivalstva</th>\n",
       "      <th>Prebivalstvo</th>\n",
       "    </tr>\n",
       "  </thead>\n",
       "  <tbody>\n",
       "    <tr>\n",
       "      <th>GDP</th>\n",
       "      <td>1.000000</td>\n",
       "      <td>-0.767602</td>\n",
       "      <td>-0.777901</td>\n",
       "      <td>0.804024</td>\n",
       "    </tr>\n",
       "    <tr>\n",
       "      <th>Rast GDP</th>\n",
       "      <td>-0.767602</td>\n",
       "      <td>1.000000</td>\n",
       "      <td>0.600223</td>\n",
       "      <td>-0.823107</td>\n",
       "    </tr>\n",
       "    <tr>\n",
       "      <th>Rast prebivalstva</th>\n",
       "      <td>-0.777901</td>\n",
       "      <td>0.600223</td>\n",
       "      <td>1.000000</td>\n",
       "      <td>-0.591873</td>\n",
       "    </tr>\n",
       "    <tr>\n",
       "      <th>Prebivalstvo</th>\n",
       "      <td>0.804024</td>\n",
       "      <td>-0.823107</td>\n",
       "      <td>-0.591873</td>\n",
       "      <td>1.000000</td>\n",
       "    </tr>\n",
       "  </tbody>\n",
       "</table>\n",
       "</div>"
      ],
      "text/plain": [
       "                        GDP  Rast GDP  Rast prebivalstva  Prebivalstvo\n",
       "GDP                1.000000 -0.767602          -0.777901      0.804024\n",
       "Rast GDP          -0.767602  1.000000           0.600223     -0.823107\n",
       "Rast prebivalstva -0.777901  0.600223           1.000000     -0.591873\n",
       "Prebivalstvo       0.804024 -0.823107          -0.591873      1.000000"
      ]
     },
     "execution_count": 29,
     "metadata": {},
     "output_type": "execute_result"
    }
   ],
   "source": [
    "kitajska = pd.concat([GDP.loc['China'], \n",
    "                 GDP_rast.loc['China'], \n",
    "                 populacija_rast.loc['China'],\n",
    "                 populacija.loc['China']\n",
    "                  ], axis=1) \n",
    "kitajska.columns = ['GDP', 'Rast GDP', 'Rast prebivalstva', 'Prebivalstvo']\n",
    "kitajska.corr()"
   ]
  },
  {
   "cell_type": "code",
   "execution_count": 35,
   "metadata": {
    "collapsed": false
   },
   "outputs": [
    {
     "data": {
      "text/plain": [
       "<matplotlib.axes._subplots.AxesSubplot at 0x6c25070>"
      ]
     },
     "execution_count": 35,
     "metadata": {},
     "output_type": "execute_result"
    },
    {
     "data": {
      "image/png": "[encoded data removed]",
      "text/plain": [
       "<matplotlib.figure.Figure at 0x5e0e4d0>"
      ]
     },
     "metadata": {},
     "output_type": "display_data"
    }
   ],
   "source": [
    "kitajska[['Rast GDP', 'Rast prebivalstva']].plot()"
   ]
  },
  {
   "cell_type": "code",
   "execution_count": 36,
   "metadata": {
    "collapsed": false
   },
   "outputs": [
    {
     "data": {
      "text/html": [
       "<div>\n",
       "<table border=\"1\" class=\"dataframe\">\n",
       "  <thead>\n",
       "    <tr style=\"text-align: right;\">\n",
       "      <th></th>\n",
       "      <th>GDP</th>\n",
       "      <th>Rast GDP</th>\n",
       "      <th>Rast prebivalstva</th>\n",
       "      <th>Prebivalstvo</th>\n",
       "    </tr>\n",
       "  </thead>\n",
       "  <tbody>\n",
       "    <tr>\n",
       "      <th>GDP</th>\n",
       "      <td>1.000000</td>\n",
       "      <td>-0.258908</td>\n",
       "      <td>-0.819551</td>\n",
       "      <td>0.642938</td>\n",
       "    </tr>\n",
       "    <tr>\n",
       "      <th>Rast GDP</th>\n",
       "      <td>-0.258908</td>\n",
       "      <td>1.000000</td>\n",
       "      <td>0.502155</td>\n",
       "      <td>-0.613983</td>\n",
       "    </tr>\n",
       "    <tr>\n",
       "      <th>Rast prebivalstva</th>\n",
       "      <td>-0.819551</td>\n",
       "      <td>0.502155</td>\n",
       "      <td>1.000000</td>\n",
       "      <td>-0.924039</td>\n",
       "    </tr>\n",
       "    <tr>\n",
       "      <th>Prebivalstvo</th>\n",
       "      <td>0.642938</td>\n",
       "      <td>-0.613983</td>\n",
       "      <td>-0.924039</td>\n",
       "      <td>1.000000</td>\n",
       "    </tr>\n",
       "  </tbody>\n",
       "</table>\n",
       "</div>"
      ],
      "text/plain": [
       "                        GDP  Rast GDP  Rast prebivalstva  Prebivalstvo\n",
       "GDP                1.000000 -0.258908          -0.819551      0.642938\n",
       "Rast GDP          -0.258908  1.000000           0.502155     -0.613983\n",
       "Rast prebivalstva -0.819551  0.502155           1.000000     -0.924039\n",
       "Prebivalstvo       0.642938 -0.613983          -0.924039      1.000000"
      ]
     },
     "execution_count": 36,
     "metadata": {},
     "output_type": "execute_result"
    }
   ],
   "source": [
    "indija = pd.concat([GDP.loc['India'], \n",
    "                 GDP_rast.loc['India'], \n",
    "                 populacija_rast.loc['India'],\n",
    "                 populacija.loc['India']\n",
    "                  ], axis=1) \n",
    "indija.columns = ['GDP', 'Rast GDP', 'Rast prebivalstva', 'Prebivalstvo']\n",
    "indija.corr()"
   ]
  },
  {
   "cell_type": "code",
   "execution_count": 37,
   "metadata": {
    "collapsed": false
   },
   "outputs": [
    {
     "data": {
      "text/plain": [
       "<matplotlib.axes._subplots.AxesSubplot at 0x670bef0>"
      ]
     },
     "execution_count": 37,
     "metadata": {},
     "output_type": "execute_result"
    },
    {
     "data": {
      "image/png": "[encoded data removed]",
      "text/plain": [
       "<matplotlib.figure.Figure at 0x5e133b0>"
      ]
     },
     "metadata": {},
     "output_type": "display_data"
    }
   ],
   "source": [
    "indija[['Rast GDP', 'Rast prebivalstva']].plot()"
   ]
  },
  {
   "cell_type": "code",
   "execution_count": 40,
   "metadata": {
    "collapsed": false
   },
   "outputs": [
    {
     "data": {
      "text/html": [
       "<div>\n",
       "<table border=\"1\" class=\"dataframe\">\n",
       "  <thead>\n",
       "    <tr style=\"text-align: right;\">\n",
       "      <th></th>\n",
       "      <th>GDP</th>\n",
       "      <th>Rast GDP</th>\n",
       "      <th>Rast prebivalstva</th>\n",
       "      <th>Prebivalstvo</th>\n",
       "    </tr>\n",
       "  </thead>\n",
       "  <tbody>\n",
       "    <tr>\n",
       "      <th>GDP</th>\n",
       "      <td>1.000000</td>\n",
       "      <td>-0.668616</td>\n",
       "      <td>-0.739886</td>\n",
       "      <td>0.696376</td>\n",
       "    </tr>\n",
       "    <tr>\n",
       "      <th>Rast GDP</th>\n",
       "      <td>-0.668616</td>\n",
       "      <td>1.000000</td>\n",
       "      <td>0.789370</td>\n",
       "      <td>-0.457152</td>\n",
       "    </tr>\n",
       "    <tr>\n",
       "      <th>Rast prebivalstva</th>\n",
       "      <td>-0.739886</td>\n",
       "      <td>0.789370</td>\n",
       "      <td>1.000000</td>\n",
       "      <td>-0.999278</td>\n",
       "    </tr>\n",
       "    <tr>\n",
       "      <th>Prebivalstvo</th>\n",
       "      <td>0.696376</td>\n",
       "      <td>-0.457152</td>\n",
       "      <td>-0.999278</td>\n",
       "      <td>1.000000</td>\n",
       "    </tr>\n",
       "  </tbody>\n",
       "</table>\n",
       "</div>"
      ],
      "text/plain": [
       "                        GDP  Rast GDP  Rast prebivalstva  Prebivalstvo\n",
       "GDP                1.000000 -0.668616          -0.739886      0.696376\n",
       "Rast GDP          -0.668616  1.000000           0.789370     -0.457152\n",
       "Rast prebivalstva -0.739886  0.789370           1.000000     -0.999278\n",
       "Prebivalstvo       0.696376 -0.457152          -0.999278      1.000000"
      ]
     },
     "execution_count": 40,
     "metadata": {},
     "output_type": "execute_result"
    }
   ],
   "source": [
    "indonezija = pd.concat([GDP.loc['Indonesia'], \n",
    "                 GDP_rast.loc['Indonesia'], \n",
    "                 populacija_rast.loc['Indonesia'],\n",
    "                 populacija.loc['Indonesia']\n",
    "                  ], axis=1) \n",
    "indonezija.columns = ['GDP', 'Rast GDP', 'Rast prebivalstva', 'Prebivalstvo']\n",
    "indonezija.corr()"
   ]
  },
  {
   "cell_type": "code",
   "execution_count": 42,
   "metadata": {
    "collapsed": false
   },
   "outputs": [
    {
     "data": {
      "text/plain": [
       "<matplotlib.axes._subplots.AxesSubplot at 0x66508b0>"
      ]
     },
     "execution_count": 42,
     "metadata": {},
     "output_type": "execute_result"
    },
    {
     "data": {
      "image/png": "[encoded data removed]",
      "text/plain": [
       "<matplotlib.figure.Figure at 0x677d9f0>"
      ]
     },
     "metadata": {},
     "output_type": "display_data"
    }
   ],
   "source": [
    "indonezija[['Rast GDP', 'Rast prebivalstva']].plot()"
   ]
  },
  {
   "cell_type": "code",
   "execution_count": 38,
   "metadata": {
    "collapsed": false
   },
   "outputs": [
    {
     "data": {
      "text/html": [
       "<div>\n",
       "<table border=\"1\" class=\"dataframe\">\n",
       "  <thead>\n",
       "    <tr style=\"text-align: right;\">\n",
       "      <th></th>\n",
       "      <th>GDP</th>\n",
       "      <th>Rast GDP</th>\n",
       "      <th>Rast prebivalstva</th>\n",
       "      <th>Prebivalstvo</th>\n",
       "    </tr>\n",
       "  </thead>\n",
       "  <tbody>\n",
       "    <tr>\n",
       "      <th>GDP</th>\n",
       "      <td>NaN</td>\n",
       "      <td>NaN</td>\n",
       "      <td>NaN</td>\n",
       "      <td>NaN</td>\n",
       "    </tr>\n",
       "    <tr>\n",
       "      <th>Rast GDP</th>\n",
       "      <td>NaN</td>\n",
       "      <td>1.000000e+00</td>\n",
       "      <td>NaN</td>\n",
       "      <td>7.301959e-16</td>\n",
       "    </tr>\n",
       "    <tr>\n",
       "      <th>Rast prebivalstva</th>\n",
       "      <td>NaN</td>\n",
       "      <td>NaN</td>\n",
       "      <td>NaN</td>\n",
       "      <td>NaN</td>\n",
       "    </tr>\n",
       "    <tr>\n",
       "      <th>Prebivalstvo</th>\n",
       "      <td>NaN</td>\n",
       "      <td>7.301959e-16</td>\n",
       "      <td>NaN</td>\n",
       "      <td>1.000000e+00</td>\n",
       "    </tr>\n",
       "  </tbody>\n",
       "</table>\n",
       "</div>"
      ],
      "text/plain": [
       "                   GDP      Rast GDP  Rast prebivalstva  Prebivalstvo\n",
       "GDP                NaN           NaN                NaN           NaN\n",
       "Rast GDP           NaN  1.000000e+00                NaN  7.301959e-16\n",
       "Rast prebivalstva  NaN           NaN                NaN           NaN\n",
       "Prebivalstvo       NaN  7.301959e-16                NaN  1.000000e+00"
      ]
     },
     "execution_count": 38,
     "metadata": {},
     "output_type": "execute_result"
    }
   ],
   "source": [
    "niue = pd.concat([GDP.loc['Niue'], \n",
    "                 GDP_rast.loc['Niue'], \n",
    "                 populacija_rast.loc['Niue'],\n",
    "                 populacija.loc['Niue']\n",
    "                  ], axis=1) \n",
    "niue.columns = ['GDP', 'Rast GDP', 'Rast prebivalstva', 'Prebivalstvo']\n",
    "niue.corr()"
   ]
  },
  {
   "cell_type": "code",
   "execution_count": 39,
   "metadata": {
    "collapsed": false
   },
   "outputs": [
    {
     "data": {
      "text/html": [
       "<div>\n",
       "<table border=\"1\" class=\"dataframe\">\n",
       "  <thead>\n",
       "    <tr style=\"text-align: right;\">\n",
       "      <th></th>\n",
       "      <th>GDP</th>\n",
       "      <th>Rast GDP</th>\n",
       "      <th>Rast prebivalstva</th>\n",
       "      <th>Prebivalstvo</th>\n",
       "    </tr>\n",
       "  </thead>\n",
       "  <tbody>\n",
       "    <tr>\n",
       "      <th>GDP</th>\n",
       "      <td>1.000000</td>\n",
       "      <td>1.000000</td>\n",
       "      <td>0.827170</td>\n",
       "      <td>-0.385988</td>\n",
       "    </tr>\n",
       "    <tr>\n",
       "      <th>Rast GDP</th>\n",
       "      <td>1.000000</td>\n",
       "      <td>1.000000</td>\n",
       "      <td>0.827170</td>\n",
       "      <td>-0.385988</td>\n",
       "    </tr>\n",
       "    <tr>\n",
       "      <th>Rast prebivalstva</th>\n",
       "      <td>0.827170</td>\n",
       "      <td>0.827170</td>\n",
       "      <td>1.000000</td>\n",
       "      <td>0.910907</td>\n",
       "    </tr>\n",
       "    <tr>\n",
       "      <th>Prebivalstvo</th>\n",
       "      <td>-0.385988</td>\n",
       "      <td>-0.385988</td>\n",
       "      <td>0.910907</td>\n",
       "      <td>1.000000</td>\n",
       "    </tr>\n",
       "  </tbody>\n",
       "</table>\n",
       "</div>"
      ],
      "text/plain": [
       "                        GDP  Rast GDP  Rast prebivalstva  Prebivalstvo\n",
       "GDP                1.000000  1.000000           0.827170     -0.385988\n",
       "Rast GDP           1.000000  1.000000           0.827170     -0.385988\n",
       "Rast prebivalstva  0.827170  0.827170           1.000000      0.910907\n",
       "Prebivalstvo      -0.385988 -0.385988           0.910907      1.000000"
      ]
     },
     "execution_count": 39,
     "metadata": {},
     "output_type": "execute_result"
    }
   ],
   "source": [
    "montserrat = pd.concat([GDP.loc['Montserrat'], \n",
    "                 GDP_rast.loc['Montserrat'], \n",
    "                 populacija_rast.loc['Montserrat'],\n",
    "                 populacija.loc['Montserrat']\n",
    "                  ], axis=1) \n",
    "montserrat.columns = ['GDP', 'Rast GDP', 'Rast prebivalstva', 'Prebivalstvo']\n",
    "montserrat.corr()"
   ]
  },
  {
   "cell_type": "code",
   "execution_count": 43,
   "metadata": {
    "collapsed": false
   },
   "outputs": [
    {
     "data": {
      "text/plain": [
       "<matplotlib.axes._subplots.AxesSubplot at 0x4a8f630>"
      ]
     },
     "execution_count": 43,
     "metadata": {},
     "output_type": "execute_result"
    },
    {
     "data": {
      "image/png": "[encoded data removed]",
      "text/plain": [
       "<matplotlib.figure.Figure at 0x4a928b0>"
      ]
     },
     "metadata": {},
     "output_type": "display_data"
    }
   ],
   "source": [
    "montserrat[['Rast GDP', 'Rast prebivalstva']].plot()"
   ]
  },
  {
   "cell_type": "code",
   "execution_count": 41,
   "metadata": {
    "collapsed": false
   },
   "outputs": [
    {
     "data": {
      "text/html": [
       "<div>\n",
       "<table border=\"1\" class=\"dataframe\">\n",
       "  <thead>\n",
       "    <tr style=\"text-align: right;\">\n",
       "      <th></th>\n",
       "      <th>GDP</th>\n",
       "      <th>Rast GDP</th>\n",
       "      <th>Rast prebivalstva</th>\n",
       "      <th>Prebivalstvo</th>\n",
       "    </tr>\n",
       "  </thead>\n",
       "  <tbody>\n",
       "    <tr>\n",
       "      <th>GDP</th>\n",
       "      <td>1.00000</td>\n",
       "      <td>NaN</td>\n",
       "      <td>-0.242750</td>\n",
       "      <td>-0.249500</td>\n",
       "    </tr>\n",
       "    <tr>\n",
       "      <th>Rast GDP</th>\n",
       "      <td>NaN</td>\n",
       "      <td>NaN</td>\n",
       "      <td>NaN</td>\n",
       "      <td>NaN</td>\n",
       "    </tr>\n",
       "    <tr>\n",
       "      <th>Rast prebivalstva</th>\n",
       "      <td>-0.24275</td>\n",
       "      <td>NaN</td>\n",
       "      <td>1.000000</td>\n",
       "      <td>0.996198</td>\n",
       "    </tr>\n",
       "    <tr>\n",
       "      <th>Prebivalstvo</th>\n",
       "      <td>-0.24950</td>\n",
       "      <td>NaN</td>\n",
       "      <td>0.996198</td>\n",
       "      <td>1.000000</td>\n",
       "    </tr>\n",
       "  </tbody>\n",
       "</table>\n",
       "</div>"
      ],
      "text/plain": [
       "                       GDP  Rast GDP  Rast prebivalstva  Prebivalstvo\n",
       "GDP                1.00000       NaN          -0.242750     -0.249500\n",
       "Rast GDP               NaN       NaN                NaN           NaN\n",
       "Rast prebivalstva -0.24275       NaN           1.000000      0.996198\n",
       "Prebivalstvo      -0.24950       NaN           0.996198      1.000000"
      ]
     },
     "execution_count": 41,
     "metadata": {},
     "output_type": "execute_result"
    }
   ],
   "source": [
    "nauru = pd.concat([GDP.loc['Nauru'], \n",
    "                 GDP_rast.loc['Nauru'], \n",
    "                 populacija_rast.loc['Nauru'],\n",
    "                 populacija.loc['Nauru']\n",
    "                  ], axis=1) \n",
    "nauru.columns = ['GDP', 'Rast GDP', 'Rast prebivalstva', 'Prebivalstvo']\n",
    "nauru.corr()"
   ]
  },
  {
   "cell_type": "code",
   "execution_count": 44,
   "metadata": {
    "collapsed": false
   },
   "outputs": [
    {
     "data": {
      "text/plain": [
       "<matplotlib.axes._subplots.AxesSubplot at 0x4a9cbd0>"
      ]
     },
     "execution_count": 44,
     "metadata": {},
     "output_type": "execute_result"
    },
    {
     "data": {
      "image/png": "[encoded data removed]",
      "text/plain": [
       "<matplotlib.figure.Figure at 0x4ad6350>"
      ]
     },
     "metadata": {},
     "output_type": "display_data"
    }
   ],
   "source": [
    "nauru[['Rast GDP', 'Rast prebivalstva']].plot()"
   ]
  }
 ],
 "metadata": {
  "kernelspec": {
   "display_name": "Python 3",
   "language": "python",
   "name": "python3"
  },
  "language_info": {
   "codemirror_mode": {
    "name": "ipython",
    "version": 3
   },
   "file_extension": ".py",
   "mimetype": "text/x-python",
   "name": "python",
   "nbconvert_exporter": "python",
   "pygments_lexer": "ipython3",
   "version": "3.5.1"
  }
 },
 "nbformat": 4,
 "nbformat_minor": 0
}
