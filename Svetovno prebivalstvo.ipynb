{
 "cells": [
  {
   "cell_type": "markdown",
   "metadata": {
    "collapsed": true
   },
   "source": [
    "# Svetovno prebivalstvo"
   ]
  },
  {
   "cell_type": "markdown",
   "metadata": {},
   "source": [
    "Projekt pri Programiranju 1 z namenom analize rasti prebivalstva glede na rast GDP."
   ]
  },
  {
   "cell_type": "markdown",
   "metadata": {},
   "source": [
    "## Priprava"
   ]
  },
  {
   "cell_type": "markdown",
   "metadata": {},
   "source": [
    "Začnemo z nalaganjem paketa pandas in razpredelnic, ki jih ustvarimo z ustvari_cvs.py. Podatki so v .txt obliki pridobljeni s strani https://www.cia.gov/library/publications/resources/the-world-factbook/."
   ]
  },
  {
   "cell_type": "code",
   "execution_count": 1,
   "metadata": {
    "collapsed": true
   },
   "outputs": [],
   "source": [
    "import pandas as pd\n",
    "\n",
    "pd.options.display.max_rows = 20\n",
    "pd.options.display.max_columns = 20\n",
    "\n",
    "GDP = pd.read_csv('csv-datoteke/GDP_na_prebivalca.csv', index_col='drzava')\n",
    "GDP_rast = pd.read_csv('csv-datoteke/GDP_rast.csv', index_col='drzava')\n",
    "populacija_rast = pd.read_csv('csv-datoteke/rast_populacije.csv', index_col='drzava')"
   ]
  },
  {
   "cell_type": "code",
   "execution_count": 2,
   "metadata": {
    "collapsed": false
   },
   "outputs": [
    {
     "name": "stdout",
     "output_type": "stream",
     "text": [
      "Using matplotlib backend: TkAgg\n"
     ]
    }
   ],
   "source": [
    "%matplotlib"
   ]
  },
  {
   "cell_type": "markdown",
   "metadata": {},
   "source": [
    "## Analiza "
   ]
  },
  {
   "cell_type": "code",
   "execution_count": 3,
   "metadata": {
    "collapsed": false
   },
   "outputs": [],
   "source": [
    "skupaj = pd.concat([GDP_rast.mean(1), populacija_rast.mean(1)], axis=1, join='outer')\n",
    "skupaj = skupaj.rename(columns={0: 'Rast GDP', 1: 'Rast populacije'})"
   ]
  },
  {
   "cell_type": "code",
   "execution_count": 30,
   "metadata": {
    "collapsed": false,
    "scrolled": true
   },
   "outputs": [
    {
     "data": {
      "text/html": [
       "<div>\n",
       "<table border=\"1\" class=\"dataframe\">\n",
       "  <thead>\n",
       "    <tr style=\"text-align: right;\">\n",
       "      <th></th>\n",
       "      <th>Rast GDP</th>\n",
       "      <th>Rast populacije</th>\n",
       "    </tr>\n",
       "  </thead>\n",
       "  <tbody>\n",
       "    <tr>\n",
       "      <th>Afghanistan</th>\n",
       "      <td>8.19</td>\n",
       "      <td>2.398750</td>\n",
       "    </tr>\n",
       "    <tr>\n",
       "      <th>Albania</th>\n",
       "      <td>3.39</td>\n",
       "      <td>0.347500</td>\n",
       "    </tr>\n",
       "    <tr>\n",
       "      <th>Algeria</th>\n",
       "      <td>3.66</td>\n",
       "      <td>1.537500</td>\n",
       "    </tr>\n",
       "    <tr>\n",
       "      <th>American Samoa</th>\n",
       "      <td>2.40</td>\n",
       "      <td>0.423750</td>\n",
       "    </tr>\n",
       "    <tr>\n",
       "      <th>Andorra</th>\n",
       "      <td>1.30</td>\n",
       "      <td>0.566250</td>\n",
       "    </tr>\n",
       "    <tr>\n",
       "      <th>Angola</th>\n",
       "      <td>9.49</td>\n",
       "      <td>2.430000</td>\n",
       "    </tr>\n",
       "    <tr>\n",
       "      <th>Anguilla</th>\n",
       "      <td>-1.02</td>\n",
       "      <td>2.167500</td>\n",
       "    </tr>\n",
       "    <tr>\n",
       "      <th>Antigua and Barbuda</th>\n",
       "      <td>1.68</td>\n",
       "      <td>1.278750</td>\n",
       "    </tr>\n",
       "    <tr>\n",
       "      <th>Argentina</th>\n",
       "      <td>5.67</td>\n",
       "      <td>1.005000</td>\n",
       "    </tr>\n",
       "    <tr>\n",
       "      <th>Armenia</th>\n",
       "      <td>7.41</td>\n",
       "      <td>-0.007500</td>\n",
       "    </tr>\n",
       "    <tr>\n",
       "      <th>...</th>\n",
       "      <td>...</td>\n",
       "      <td>...</td>\n",
       "    </tr>\n",
       "    <tr>\n",
       "      <th>Venezuela</th>\n",
       "      <td>3.70</td>\n",
       "      <td>1.467500</td>\n",
       "    </tr>\n",
       "    <tr>\n",
       "      <th>Vietnam</th>\n",
       "      <td>6.66</td>\n",
       "      <td>1.025000</td>\n",
       "    </tr>\n",
       "    <tr>\n",
       "      <th>Virgin Islands</th>\n",
       "      <td>1.26</td>\n",
       "      <td>-0.295000</td>\n",
       "    </tr>\n",
       "    <tr>\n",
       "      <th>Wallis and Futuna</th>\n",
       "      <td>NaN</td>\n",
       "      <td>0.350000</td>\n",
       "    </tr>\n",
       "    <tr>\n",
       "      <th>West Bank</th>\n",
       "      <td>3.55</td>\n",
       "      <td>2.083750</td>\n",
       "    </tr>\n",
       "    <tr>\n",
       "      <th>Western Sahara</th>\n",
       "      <td>NaN</td>\n",
       "      <td>2.958750</td>\n",
       "    </tr>\n",
       "    <tr>\n",
       "      <th>World</th>\n",
       "      <td>4.54</td>\n",
       "      <td>1.163333</td>\n",
       "    </tr>\n",
       "    <tr>\n",
       "      <th>Yemen</th>\n",
       "      <td>2.87</td>\n",
       "      <td>2.817500</td>\n",
       "    </tr>\n",
       "    <tr>\n",
       "      <th>Zambia</th>\n",
       "      <td>6.27</td>\n",
       "      <td>2.625000</td>\n",
       "    </tr>\n",
       "    <tr>\n",
       "      <th>Zimbabwe</th>\n",
       "      <td>-0.27</td>\n",
       "      <td>2.913750</td>\n",
       "    </tr>\n",
       "  </tbody>\n",
       "</table>\n",
       "<p>243 rows × 2 columns</p>\n",
       "</div>"
      ],
      "text/plain": [
       "                     Rast GDP  Rast populacije\n",
       "Afghanistan              8.19         2.398750\n",
       "Albania                  3.39         0.347500\n",
       "Algeria                  3.66         1.537500\n",
       "American Samoa           2.40         0.423750\n",
       "Andorra                  1.30         0.566250\n",
       "Angola                   9.49         2.430000\n",
       "Anguilla                -1.02         2.167500\n",
       "Antigua and Barbuda      1.68         1.278750\n",
       "Argentina                5.67         1.005000\n",
       "Armenia                  7.41        -0.007500\n",
       "...                       ...              ...\n",
       "Venezuela                3.70         1.467500\n",
       "Vietnam                  6.66         1.025000\n",
       "Virgin Islands           1.26        -0.295000\n",
       "Wallis and Futuna         NaN         0.350000\n",
       "West Bank                3.55         2.083750\n",
       "Western Sahara            NaN         2.958750\n",
       "World                    4.54         1.163333\n",
       "Yemen                    2.87         2.817500\n",
       "Zambia                   6.27         2.625000\n",
       "Zimbabwe                -0.27         2.913750\n",
       "\n",
       "[243 rows x 2 columns]"
      ]
     },
     "execution_count": 30,
     "metadata": {},
     "output_type": "execute_result"
    }
   ],
   "source": [
    "skupaj"
   ]
  },
  {
   "cell_type": "code",
   "execution_count": 5,
   "metadata": {
    "collapsed": false
   },
   "outputs": [
    {
     "data": {
      "text/html": [
       "<div>\n",
       "<table border=\"1\" class=\"dataframe\">\n",
       "  <thead>\n",
       "    <tr style=\"text-align: right;\">\n",
       "      <th></th>\n",
       "      <th>Rast GDP</th>\n",
       "      <th>Rast populacije</th>\n",
       "    </tr>\n",
       "  </thead>\n",
       "  <tbody>\n",
       "    <tr>\n",
       "      <th>Micronesia, Federated States of</th>\n",
       "      <td>0.085714</td>\n",
       "      <td>-0.327500</td>\n",
       "    </tr>\n",
       "    <tr>\n",
       "      <th>Cook Islands</th>\n",
       "      <td>0.100000</td>\n",
       "      <td>-3.131429</td>\n",
       "    </tr>\n",
       "    <tr>\n",
       "      <th>Cyprus</th>\n",
       "      <td>0.160000</td>\n",
       "      <td>1.290000</td>\n",
       "    </tr>\n",
       "    <tr>\n",
       "      <th>Jamaica</th>\n",
       "      <td>0.420000</td>\n",
       "      <td>0.725000</td>\n",
       "    </tr>\n",
       "    <tr>\n",
       "      <th>British Virgin Islands</th>\n",
       "      <td>0.610000</td>\n",
       "      <td>2.095000</td>\n",
       "    </tr>\n",
       "    <tr>\n",
       "      <th>Tonga</th>\n",
       "      <td>0.730000</td>\n",
       "      <td>0.640000</td>\n",
       "    </tr>\n",
       "    <tr>\n",
       "      <th>Korea, North</th>\n",
       "      <td>0.740000</td>\n",
       "      <td>0.526250</td>\n",
       "    </tr>\n",
       "    <tr>\n",
       "      <th>Montserrat</th>\n",
       "      <td>0.800000</td>\n",
       "      <td>0.436250</td>\n",
       "    </tr>\n",
       "    <tr>\n",
       "      <th>Brunei</th>\n",
       "      <td>0.840000</td>\n",
       "      <td>1.702500</td>\n",
       "    </tr>\n",
       "    <tr>\n",
       "      <th>Spain</th>\n",
       "      <td>0.860000</td>\n",
       "      <td>0.538750</td>\n",
       "    </tr>\n",
       "    <tr>\n",
       "      <th>...</th>\n",
       "      <td>...</td>\n",
       "      <td>...</td>\n",
       "    </tr>\n",
       "    <tr>\n",
       "      <th>Mongolia</th>\n",
       "      <td>9.030000</td>\n",
       "      <td>1.445000</td>\n",
       "    </tr>\n",
       "    <tr>\n",
       "      <th>Macau</th>\n",
       "      <td>9.287500</td>\n",
       "      <td>1.283750</td>\n",
       "    </tr>\n",
       "    <tr>\n",
       "      <th>China</th>\n",
       "      <td>9.330000</td>\n",
       "      <td>0.512500</td>\n",
       "    </tr>\n",
       "    <tr>\n",
       "      <th>Sierra Leone</th>\n",
       "      <td>9.420000</td>\n",
       "      <td>2.286250</td>\n",
       "    </tr>\n",
       "    <tr>\n",
       "      <th>Angola</th>\n",
       "      <td>9.490000</td>\n",
       "      <td>2.430000</td>\n",
       "    </tr>\n",
       "    <tr>\n",
       "      <th>Turkmenistan</th>\n",
       "      <td>9.510000</td>\n",
       "      <td>1.198750</td>\n",
       "    </tr>\n",
       "    <tr>\n",
       "      <th>Qatar</th>\n",
       "      <td>9.540000</td>\n",
       "      <td>2.437500</td>\n",
       "    </tr>\n",
       "    <tr>\n",
       "      <th>Bhutan</th>\n",
       "      <td>10.330000</td>\n",
       "      <td>1.197500</td>\n",
       "    </tr>\n",
       "    <tr>\n",
       "      <th>Azerbaijan</th>\n",
       "      <td>11.840000</td>\n",
       "      <td>0.890000</td>\n",
       "    </tr>\n",
       "    <tr>\n",
       "      <th>Libya</th>\n",
       "      <td>23.070000</td>\n",
       "      <td>2.592500</td>\n",
       "    </tr>\n",
       "  </tbody>\n",
       "</table>\n",
       "<p>220 rows × 2 columns</p>\n",
       "</div>"
      ],
      "text/plain": [
       "                                  Rast GDP  Rast populacije\n",
       "Micronesia, Federated States of   0.085714        -0.327500\n",
       "Cook Islands                      0.100000        -3.131429\n",
       "Cyprus                            0.160000         1.290000\n",
       "Jamaica                           0.420000         0.725000\n",
       "British Virgin Islands            0.610000         2.095000\n",
       "Tonga                             0.730000         0.640000\n",
       "Korea, North                      0.740000         0.526250\n",
       "Montserrat                        0.800000         0.436250\n",
       "Brunei                            0.840000         1.702500\n",
       "Spain                             0.860000         0.538750\n",
       "...                                    ...              ...\n",
       "Mongolia                          9.030000         1.445000\n",
       "Macau                             9.287500         1.283750\n",
       "China                             9.330000         0.512500\n",
       "Sierra Leone                      9.420000         2.286250\n",
       "Angola                            9.490000         2.430000\n",
       "Turkmenistan                      9.510000         1.198750\n",
       "Qatar                             9.540000         2.437500\n",
       "Bhutan                           10.330000         1.197500\n",
       "Azerbaijan                       11.840000         0.890000\n",
       "Libya                            23.070000         2.592500\n",
       "\n",
       "[220 rows x 2 columns]"
      ]
     },
     "execution_count": 5,
     "metadata": {},
     "output_type": "execute_result"
    }
   ],
   "source": [
    "skupaj[skupaj['Rast GDP'] > 0].sort_values('Rast GDP')"
   ]
  },
  {
   "cell_type": "code",
   "execution_count": null,
   "metadata": {
    "collapsed": true
   },
   "outputs": [],
   "source": []
  }
 ],
 "metadata": {
  "kernelspec": {
   "display_name": "Python 3",
   "language": "python",
   "name": "python3"
  },
  "language_info": {
   "codemirror_mode": {
    "name": "ipython",
    "version": 3
   },
   "file_extension": ".py",
   "mimetype": "text/x-python",
   "name": "python",
   "nbconvert_exporter": "python",
   "pygments_lexer": "ipython3",
   "version": "3.5.1"
  }
 },
 "nbformat": 4,
 "nbformat_minor": 0
}
