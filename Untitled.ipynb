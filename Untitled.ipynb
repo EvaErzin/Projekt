{
 "cells": [
  {
   "cell_type": "markdown",
   "metadata": {
    "collapsed": true
   },
   "source": [
    "# Analiza rasti prebivalstva glede na GDP "
   ]
  },
  {
   "cell_type": "code",
   "execution_count": 1,
   "metadata": {
    "collapsed": true
   },
   "outputs": [],
   "source": [
    "import pandas as pd\n",
    "\n",
    "pd.options.display.max_rows = 20\n",
    "pd.options.display.max_columns = 20\n",
    "\n",
    "GDP = pd.read_csv('csv-datoteke/GDP_na_prebivalca.csv', index_col='drzava')\n",
    "GDP_rast = pd.read_csv('csv-datoteke/GDP_rast.csv', index_col='drzava')\n",
    "populacija_rast = pd.read_csv('csv-datoteke/rast_populacije.csv', index_col='drzava')"
   ]
  },
  {
   "cell_type": "code",
   "execution_count": 34,
   "metadata": {
    "collapsed": false
   },
   "outputs": [
    {
     "data": {
      "text/html": [
       "<div>\n",
       "<table border=\"1\" class=\"dataframe\">\n",
       "  <thead>\n",
       "    <tr style=\"text-align: right;\">\n",
       "      <th></th>\n",
       "      <th>Povprečni GDP</th>\n",
       "      <th>Rast GDP</th>\n",
       "      <th>Rast populacije</th>\n",
       "    </tr>\n",
       "    <tr>\n",
       "      <th>drzava</th>\n",
       "      <th></th>\n",
       "      <th></th>\n",
       "      <th></th>\n",
       "    </tr>\n",
       "  </thead>\n",
       "  <tbody>\n",
       "    <tr>\n",
       "      <th>Congo, Democratic Republic of the</th>\n",
       "      <td>450</td>\n",
       "      <td>6.6300</td>\n",
       "      <td>2.78750</td>\n",
       "    </tr>\n",
       "    <tr>\n",
       "      <th>Burundi</th>\n",
       "      <td>530</td>\n",
       "      <td>3.9500</td>\n",
       "      <td>3.30875</td>\n",
       "    </tr>\n",
       "    <tr>\n",
       "      <th>Somalia</th>\n",
       "      <td>600</td>\n",
       "      <td>2.5800</td>\n",
       "      <td>2.11250</td>\n",
       "    </tr>\n",
       "    <tr>\n",
       "      <th>Liberia</th>\n",
       "      <td>680</td>\n",
       "      <td>7.1300</td>\n",
       "      <td>2.74125</td>\n",
       "    </tr>\n",
       "    <tr>\n",
       "      <th>Central African Republic</th>\n",
       "      <td>810</td>\n",
       "      <td>1.3600</td>\n",
       "      <td>1.98000</td>\n",
       "    </tr>\n",
       "    <tr>\n",
       "      <th>Malawi</th>\n",
       "      <td>820</td>\n",
       "      <td>5.8100</td>\n",
       "      <td>2.80500</td>\n",
       "    </tr>\n",
       "    <tr>\n",
       "      <th>Niger</th>\n",
       "      <td>840</td>\n",
       "      <td>7.3000</td>\n",
       "      <td>3.38375</td>\n",
       "    </tr>\n",
       "    <tr>\n",
       "      <th>Eritrea</th>\n",
       "      <td>870</td>\n",
       "      <td>3.6700</td>\n",
       "      <td>2.44125</td>\n",
       "    </tr>\n",
       "    <tr>\n",
       "      <th>Zimbabwe</th>\n",
       "      <td>930</td>\n",
       "      <td>-0.2700</td>\n",
       "      <td>2.91375</td>\n",
       "    </tr>\n",
       "    <tr>\n",
       "      <th>Madagascar</th>\n",
       "      <td>990</td>\n",
       "      <td>3.2300</td>\n",
       "      <td>2.81250</td>\n",
       "    </tr>\n",
       "    <tr>\n",
       "      <th>...</th>\n",
       "      <td>...</td>\n",
       "      <td>...</td>\n",
       "      <td>...</td>\n",
       "    </tr>\n",
       "    <tr>\n",
       "      <th>United States</th>\n",
       "      <td>48200</td>\n",
       "      <td>2.3200</td>\n",
       "      <td>0.89250</td>\n",
       "    </tr>\n",
       "    <tr>\n",
       "      <th>Brunei</th>\n",
       "      <td>49270</td>\n",
       "      <td>0.8400</td>\n",
       "      <td>1.70250</td>\n",
       "    </tr>\n",
       "    <tr>\n",
       "      <th>Macau</th>\n",
       "      <td>50540</td>\n",
       "      <td>9.2875</td>\n",
       "      <td>1.28375</td>\n",
       "    </tr>\n",
       "    <tr>\n",
       "      <th>Norway</th>\n",
       "      <td>54790</td>\n",
       "      <td>2.6600</td>\n",
       "      <td>0.54125</td>\n",
       "    </tr>\n",
       "    <tr>\n",
       "      <th>Jersey</th>\n",
       "      <td>55300</td>\n",
       "      <td>-0.3000</td>\n",
       "      <td>0.67375</td>\n",
       "    </tr>\n",
       "    <tr>\n",
       "      <th>Singapore</th>\n",
       "      <td>55300</td>\n",
       "      <td>6.2600</td>\n",
       "      <td>1.44750</td>\n",
       "    </tr>\n",
       "    <tr>\n",
       "      <th>Bermuda</th>\n",
       "      <td>74700</td>\n",
       "      <td>2.2700</td>\n",
       "      <td>0.56875</td>\n",
       "    </tr>\n",
       "    <tr>\n",
       "      <th>Luxembourg</th>\n",
       "      <td>79650</td>\n",
       "      <td>2.7000</td>\n",
       "      <td>1.27375</td>\n",
       "    </tr>\n",
       "    <tr>\n",
       "      <th>Liechtenstein</th>\n",
       "      <td>81380</td>\n",
       "      <td>4.3600</td>\n",
       "      <td>0.75125</td>\n",
       "    </tr>\n",
       "    <tr>\n",
       "      <th>Qatar</th>\n",
       "      <td>102400</td>\n",
       "      <td>9.5400</td>\n",
       "      <td>2.43750</td>\n",
       "    </tr>\n",
       "  </tbody>\n",
       "</table>\n",
       "<p>225 rows × 3 columns</p>\n",
       "</div>"
      ],
      "text/plain": [
       "                                   Povprečni GDP  Rast GDP  Rast populacije\n",
       "drzava                                                                     \n",
       "Congo, Democratic Republic of the            450    6.6300          2.78750\n",
       "Burundi                                      530    3.9500          3.30875\n",
       "Somalia                                      600    2.5800          2.11250\n",
       "Liberia                                      680    7.1300          2.74125\n",
       "Central African Republic                     810    1.3600          1.98000\n",
       "Malawi                                       820    5.8100          2.80500\n",
       "Niger                                        840    7.3000          3.38375\n",
       "Eritrea                                      870    3.6700          2.44125\n",
       "Zimbabwe                                     930   -0.2700          2.91375\n",
       "Madagascar                                   990    3.2300          2.81250\n",
       "...                                          ...       ...              ...\n",
       "United States                              48200    2.3200          0.89250\n",
       "Brunei                                     49270    0.8400          1.70250\n",
       "Macau                                      50540    9.2875          1.28375\n",
       "Norway                                     54790    2.6600          0.54125\n",
       "Jersey                                     55300   -0.3000          0.67375\n",
       "Singapore                                  55300    6.2600          1.44750\n",
       "Bermuda                                    74700    2.2700          0.56875\n",
       "Luxembourg                                 79650    2.7000          1.27375\n",
       "Liechtenstein                              81380    4.3600          0.75125\n",
       "Qatar                                     102400    9.5400          2.43750\n",
       "\n",
       "[225 rows x 3 columns]"
      ]
     },
     "execution_count": 34,
     "metadata": {},
     "output_type": "execute_result"
    }
   ],
   "source": [
    "povprecne = pd.concat([GDP.mean(1), GDP_rast.mean(1), populacija_rast.mean(1)], axis=1, join='inner')\n",
    "povprecne = povprecne.rename(columns={1: 'Rast GDP', 2: 'Rast populacije', 0: 'Povprečni GDP'})\n",
    "\n",
    "povprecne = povprecne.sort_values(by='Povprečni GDP')\n",
    "povprecne"
   ]
  },
  {
   "cell_type": "code",
   "execution_count": 24,
   "metadata": {
    "collapsed": false
   },
   "outputs": [
    {
     "ename": "AttributeError",
     "evalue": "'DataFrame' object has no attribute 'sorted'",
     "output_type": "error",
     "traceback": [
      "\u001b[1;31m---------------------------------------------------------------------------\u001b[0m",
      "\u001b[1;31mAttributeError\u001b[0m                            Traceback (most recent call last)",
      "\u001b[1;32m<ipython-input-24-140be8cc8eaa>\u001b[0m in \u001b[0;36m<module>\u001b[1;34m()\u001b[0m\n\u001b[1;32m----> 1\u001b[1;33m \u001b[0mpovprecniGDP\u001b[0m \u001b[1;33m=\u001b[0m \u001b[0mpd\u001b[0m\u001b[1;33m.\u001b[0m\u001b[0mDataFrame\u001b[0m\u001b[1;33m(\u001b[0m\u001b[0mGDP\u001b[0m\u001b[1;33m.\u001b[0m\u001b[0mmean\u001b[0m\u001b[1;33m(\u001b[0m\u001b[1;36m1\u001b[0m\u001b[1;33m)\u001b[0m\u001b[1;33m)\u001b[0m\u001b[1;33m.\u001b[0m\u001b[0msorted\u001b[0m\u001b[1;33m(\u001b[0m\u001b[1;33m)\u001b[0m\u001b[1;33m\u001b[0m\u001b[0m\n\u001b[0m",
      "\u001b[1;32mc:\\users\\eva\\appdata\\local\\programs\\python\\python35-32\\lib\\site-packages\\pandas\\core\\generic.py\u001b[0m in \u001b[0;36m__getattr__\u001b[1;34m(self, name)\u001b[0m\n\u001b[0;32m   2358\u001b[0m                 \u001b[1;32mreturn\u001b[0m \u001b[0mself\u001b[0m\u001b[1;33m[\u001b[0m\u001b[0mname\u001b[0m\u001b[1;33m]\u001b[0m\u001b[1;33m\u001b[0m\u001b[0m\n\u001b[0;32m   2359\u001b[0m             raise AttributeError(\"'%s' object has no attribute '%s'\" %\n\u001b[1;32m-> 2360\u001b[1;33m                                  (type(self).__name__, name))\n\u001b[0m\u001b[0;32m   2361\u001b[0m \u001b[1;33m\u001b[0m\u001b[0m\n\u001b[0;32m   2362\u001b[0m     \u001b[1;32mdef\u001b[0m \u001b[0m__setattr__\u001b[0m\u001b[1;33m(\u001b[0m\u001b[0mself\u001b[0m\u001b[1;33m,\u001b[0m \u001b[0mname\u001b[0m\u001b[1;33m,\u001b[0m \u001b[0mvalue\u001b[0m\u001b[1;33m)\u001b[0m\u001b[1;33m:\u001b[0m\u001b[1;33m\u001b[0m\u001b[0m\n",
      "\u001b[1;31mAttributeError\u001b[0m: 'DataFrame' object has no attribute 'sorted'"
     ]
    }
   ],
   "source": []
  },
  {
   "cell_type": "code",
   "execution_count": 13,
   "metadata": {
    "collapsed": false
   },
   "outputs": [
    {
     "data": {
      "text/plain": [
       "-18.749999999999996"
      ]
     },
     "execution_count": 13,
     "metadata": {},
     "output_type": "execute_result"
    }
   ],
   "source": []
  },
  {
   "cell_type": "code",
   "execution_count": null,
   "metadata": {
    "collapsed": true
   },
   "outputs": [],
   "source": []
  }
 ],
 "metadata": {
  "kernelspec": {
   "display_name": "Python 3",
   "language": "python",
   "name": "python3"
  },
  "language_info": {
   "codemirror_mode": {
    "name": "ipython",
    "version": 3
   },
   "file_extension": ".py",
   "mimetype": "text/x-python",
   "name": "python",
   "nbconvert_exporter": "python",
   "pygments_lexer": "ipython3",
   "version": "3.5.1"
  }
 },
 "nbformat": 4,
 "nbformat_minor": 0
}
