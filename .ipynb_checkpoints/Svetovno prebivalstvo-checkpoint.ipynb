{
 "cells": [
  {
   "cell_type": "markdown",
   "metadata": {
    "collapsed": true
   },
   "source": [
    "# Svetovno prebivalstvo"
   ]
  },
  {
   "cell_type": "markdown",
   "metadata": {},
   "source": [
    "Projekt pri Programiranju 1 z namenom analize rasti prebivalstva glede na rast GDP."
   ]
  },
  {
   "cell_type": "markdown",
   "metadata": {},
   "source": [
    "## Priprava"
   ]
  },
  {
   "cell_type": "markdown",
   "metadata": {},
   "source": [
    "Začnemo z nalaganjem paketa pandas in razpredelnic, ki jih ustvarimo z ustvari_cvs.py. Podatki so v .txt obliki pridobljeni s strani https://www.cia.gov/library/publications/resources/the-world-factbook/."
   ]
  },
  {
   "cell_type": "code",
   "execution_count": 1,
   "metadata": {
    "collapsed": true
   },
   "outputs": [],
   "source": [
    "import pandas as pd\n",
    "\n",
    "pd.options.display.max_rows = 20\n",
    "pd.options.display.max_columns = 20\n",
    "\n",
    "GDP = pd.read_csv('csv-datoteke/GDP_na_prebivalca.csv', index_col='drzava')\n",
    "GDP_rast = pd.read_csv('csv-datoteke/GDP_rast.csv', index_col='drzava')\n",
    "populacija_rast = pd.read_csv('csv-datoteke/rast_populacije.csv', index_col='drzava')"
   ]
  },
  {
   "cell_type": "code",
   "execution_count": 48,
   "metadata": {
    "collapsed": false
   },
   "outputs": [],
   "source": [
    "%matplotlib inline"
   ]
  },
  {
   "cell_type": "markdown",
   "metadata": {},
   "source": [
    "## Analiza "
   ]
  },
  {
   "cell_type": "markdown",
   "metadata": {},
   "source": [
    "Najprej bom izračunala povprečne vrednosti GDP, rasti GDP ter rasti prebivalstva."
   ]
  },
  {
   "cell_type": "code",
   "execution_count": 2,
   "metadata": {
    "collapsed": false
   },
   "outputs": [
    {
     "data": {
      "text/html": [
       "<div>\n",
       "<table border=\"1\" class=\"dataframe\">\n",
       "  <thead>\n",
       "    <tr style=\"text-align: right;\">\n",
       "      <th></th>\n",
       "      <th>GDP</th>\n",
       "      <th>Rast GDP</th>\n",
       "      <th>Rast populacije</th>\n",
       "    </tr>\n",
       "    <tr>\n",
       "      <th>drzava</th>\n",
       "      <th></th>\n",
       "      <th></th>\n",
       "      <th></th>\n",
       "    </tr>\n",
       "  </thead>\n",
       "  <tbody>\n",
       "    <tr>\n",
       "      <th>Congo, Democratic Republic of the</th>\n",
       "      <td>450</td>\n",
       "      <td>6.6300</td>\n",
       "      <td>2.78750</td>\n",
       "    </tr>\n",
       "    <tr>\n",
       "      <th>Burundi</th>\n",
       "      <td>530</td>\n",
       "      <td>3.9500</td>\n",
       "      <td>3.30875</td>\n",
       "    </tr>\n",
       "    <tr>\n",
       "      <th>Somalia</th>\n",
       "      <td>600</td>\n",
       "      <td>2.5800</td>\n",
       "      <td>2.11250</td>\n",
       "    </tr>\n",
       "    <tr>\n",
       "      <th>Liberia</th>\n",
       "      <td>680</td>\n",
       "      <td>7.1300</td>\n",
       "      <td>2.74125</td>\n",
       "    </tr>\n",
       "    <tr>\n",
       "      <th>Central African Republic</th>\n",
       "      <td>810</td>\n",
       "      <td>1.3600</td>\n",
       "      <td>1.98000</td>\n",
       "    </tr>\n",
       "    <tr>\n",
       "      <th>Malawi</th>\n",
       "      <td>820</td>\n",
       "      <td>5.8100</td>\n",
       "      <td>2.80500</td>\n",
       "    </tr>\n",
       "    <tr>\n",
       "      <th>Niger</th>\n",
       "      <td>840</td>\n",
       "      <td>7.3000</td>\n",
       "      <td>3.38375</td>\n",
       "    </tr>\n",
       "    <tr>\n",
       "      <th>Eritrea</th>\n",
       "      <td>870</td>\n",
       "      <td>3.6700</td>\n",
       "      <td>2.44125</td>\n",
       "    </tr>\n",
       "    <tr>\n",
       "      <th>Zimbabwe</th>\n",
       "      <td>930</td>\n",
       "      <td>-0.2700</td>\n",
       "      <td>2.91375</td>\n",
       "    </tr>\n",
       "    <tr>\n",
       "      <th>Madagascar</th>\n",
       "      <td>990</td>\n",
       "      <td>3.2300</td>\n",
       "      <td>2.81250</td>\n",
       "    </tr>\n",
       "    <tr>\n",
       "      <th>...</th>\n",
       "      <td>...</td>\n",
       "      <td>...</td>\n",
       "      <td>...</td>\n",
       "    </tr>\n",
       "    <tr>\n",
       "      <th>United States</th>\n",
       "      <td>48200</td>\n",
       "      <td>2.3200</td>\n",
       "      <td>0.89250</td>\n",
       "    </tr>\n",
       "    <tr>\n",
       "      <th>Brunei</th>\n",
       "      <td>49270</td>\n",
       "      <td>0.8400</td>\n",
       "      <td>1.70250</td>\n",
       "    </tr>\n",
       "    <tr>\n",
       "      <th>Macau</th>\n",
       "      <td>50540</td>\n",
       "      <td>9.2875</td>\n",
       "      <td>1.28375</td>\n",
       "    </tr>\n",
       "    <tr>\n",
       "      <th>Norway</th>\n",
       "      <td>54790</td>\n",
       "      <td>2.6600</td>\n",
       "      <td>0.54125</td>\n",
       "    </tr>\n",
       "    <tr>\n",
       "      <th>Jersey</th>\n",
       "      <td>55300</td>\n",
       "      <td>-0.3000</td>\n",
       "      <td>0.67375</td>\n",
       "    </tr>\n",
       "    <tr>\n",
       "      <th>Singapore</th>\n",
       "      <td>55300</td>\n",
       "      <td>6.2600</td>\n",
       "      <td>1.44750</td>\n",
       "    </tr>\n",
       "    <tr>\n",
       "      <th>Bermuda</th>\n",
       "      <td>74700</td>\n",
       "      <td>2.2700</td>\n",
       "      <td>0.56875</td>\n",
       "    </tr>\n",
       "    <tr>\n",
       "      <th>Luxembourg</th>\n",
       "      <td>79650</td>\n",
       "      <td>2.7000</td>\n",
       "      <td>1.27375</td>\n",
       "    </tr>\n",
       "    <tr>\n",
       "      <th>Liechtenstein</th>\n",
       "      <td>81380</td>\n",
       "      <td>4.3600</td>\n",
       "      <td>0.75125</td>\n",
       "    </tr>\n",
       "    <tr>\n",
       "      <th>Qatar</th>\n",
       "      <td>102400</td>\n",
       "      <td>9.5400</td>\n",
       "      <td>2.43750</td>\n",
       "    </tr>\n",
       "  </tbody>\n",
       "</table>\n",
       "<p>225 rows × 3 columns</p>\n",
       "</div>"
      ],
      "text/plain": [
       "                                      GDP  Rast GDP  Rast populacije\n",
       "drzava                                                              \n",
       "Congo, Democratic Republic of the     450    6.6300          2.78750\n",
       "Burundi                               530    3.9500          3.30875\n",
       "Somalia                               600    2.5800          2.11250\n",
       "Liberia                               680    7.1300          2.74125\n",
       "Central African Republic              810    1.3600          1.98000\n",
       "Malawi                                820    5.8100          2.80500\n",
       "Niger                                 840    7.3000          3.38375\n",
       "Eritrea                               870    3.6700          2.44125\n",
       "Zimbabwe                              930   -0.2700          2.91375\n",
       "Madagascar                            990    3.2300          2.81250\n",
       "...                                   ...       ...              ...\n",
       "United States                       48200    2.3200          0.89250\n",
       "Brunei                              49270    0.8400          1.70250\n",
       "Macau                               50540    9.2875          1.28375\n",
       "Norway                              54790    2.6600          0.54125\n",
       "Jersey                              55300   -0.3000          0.67375\n",
       "Singapore                           55300    6.2600          1.44750\n",
       "Bermuda                             74700    2.2700          0.56875\n",
       "Luxembourg                          79650    2.7000          1.27375\n",
       "Liechtenstein                       81380    4.3600          0.75125\n",
       "Qatar                              102400    9.5400          2.43750\n",
       "\n",
       "[225 rows x 3 columns]"
      ]
     },
     "execution_count": 2,
     "metadata": {},
     "output_type": "execute_result"
    }
   ],
   "source": [
    "povprecne = pd.concat([GDP.mean(1), GDP_rast.mean(1), populacija_rast.mean(1)], axis=1, join='inner')\n",
    "povprecne = povprecne.rename(columns={1: 'Rast GDP', 2: 'Rast populacije', 0: 'GDP'})\n",
    "\n",
    "povprecne = povprecne.sort_values(by='GDP')\n",
    "povprecne"
   ]
  },
  {
   "cell_type": "code",
   "execution_count": 3,
   "metadata": {
    "collapsed": false
   },
   "outputs": [
    {
     "data": {
      "text/html": [
       "<div>\n",
       "<table border=\"1\" class=\"dataframe\">\n",
       "  <thead>\n",
       "    <tr style=\"text-align: right;\">\n",
       "      <th></th>\n",
       "      <th>GDP</th>\n",
       "      <th>Rast GDP</th>\n",
       "      <th>Rast populacije</th>\n",
       "    </tr>\n",
       "  </thead>\n",
       "  <tbody>\n",
       "    <tr>\n",
       "      <th>GDP</th>\n",
       "      <td>1.000000</td>\n",
       "      <td>-0.139324</td>\n",
       "      <td>-0.257231</td>\n",
       "    </tr>\n",
       "    <tr>\n",
       "      <th>Rast GDP</th>\n",
       "      <td>-0.139324</td>\n",
       "      <td>1.000000</td>\n",
       "      <td>0.206691</td>\n",
       "    </tr>\n",
       "    <tr>\n",
       "      <th>Rast populacije</th>\n",
       "      <td>-0.257231</td>\n",
       "      <td>0.206691</td>\n",
       "      <td>1.000000</td>\n",
       "    </tr>\n",
       "  </tbody>\n",
       "</table>\n",
       "</div>"
      ],
      "text/plain": [
       "                      GDP  Rast GDP  Rast populacije\n",
       "GDP              1.000000 -0.139324        -0.257231\n",
       "Rast GDP        -0.139324  1.000000         0.206691\n",
       "Rast populacije -0.257231  0.206691         1.000000"
      ]
     },
     "execution_count": 3,
     "metadata": {},
     "output_type": "execute_result"
    }
   ],
   "source": [
    "povprecne.corr()"
   ]
  },
  {
   "cell_type": "markdown",
   "metadata": {},
   "source": [
    "Vidimo lahko, da je, če gledamo povprečne vrednosti, korelacija med rastjo populacije ter rastjo GDP majhna. Poglejmo, če bodo vrednosti različne, če izračunamo korelacijo med rastjo GDP in rastjo prebivalstva le za 10 držav z največjim in 10 držav z najmanjšim GDP."
   ]
  },
  {
   "cell_type": "code",
   "execution_count": 10,
   "metadata": {
    "collapsed": false
   },
   "outputs": [
    {
     "data": {
      "text/html": [
       "<div>\n",
       "<table border=\"1\" class=\"dataframe\">\n",
       "  <thead>\n",
       "    <tr style=\"text-align: right;\">\n",
       "      <th></th>\n",
       "      <th>GDP</th>\n",
       "      <th>Rast GDP</th>\n",
       "      <th>Rast populacije</th>\n",
       "    </tr>\n",
       "  </thead>\n",
       "  <tbody>\n",
       "    <tr>\n",
       "      <th>GDP</th>\n",
       "      <td>1.000000</td>\n",
       "      <td>-0.369443</td>\n",
       "      <td>-0.021202</td>\n",
       "    </tr>\n",
       "    <tr>\n",
       "      <th>Rast GDP</th>\n",
       "      <td>-0.369443</td>\n",
       "      <td>1.000000</td>\n",
       "      <td>0.438877</td>\n",
       "    </tr>\n",
       "    <tr>\n",
       "      <th>Rast populacije</th>\n",
       "      <td>-0.021202</td>\n",
       "      <td>0.438877</td>\n",
       "      <td>1.000000</td>\n",
       "    </tr>\n",
       "  </tbody>\n",
       "</table>\n",
       "</div>"
      ],
      "text/plain": [
       "                      GDP  Rast GDP  Rast populacije\n",
       "GDP              1.000000 -0.369443        -0.021202\n",
       "Rast GDP        -0.369443  1.000000         0.438877\n",
       "Rast populacije -0.021202  0.438877         1.000000"
      ]
     },
     "execution_count": 10,
     "metadata": {},
     "output_type": "execute_result"
    }
   ],
   "source": [
    "najmanjsi = povprecne.head(10)\n",
    "najmanjsi.corr()"
   ]
  },
  {
   "cell_type": "code",
   "execution_count": 11,
   "metadata": {
    "collapsed": false
   },
   "outputs": [
    {
     "data": {
      "text/html": [
       "<div>\n",
       "<table border=\"1\" class=\"dataframe\">\n",
       "  <thead>\n",
       "    <tr style=\"text-align: right;\">\n",
       "      <th></th>\n",
       "      <th>GDP</th>\n",
       "      <th>Rast GDP</th>\n",
       "      <th>Rast populacije</th>\n",
       "    </tr>\n",
       "  </thead>\n",
       "  <tbody>\n",
       "    <tr>\n",
       "      <th>GDP</th>\n",
       "      <td>1.000000</td>\n",
       "      <td>0.383846</td>\n",
       "      <td>0.399256</td>\n",
       "    </tr>\n",
       "    <tr>\n",
       "      <th>Rast GDP</th>\n",
       "      <td>0.383846</td>\n",
       "      <td>1.000000</td>\n",
       "      <td>0.592676</td>\n",
       "    </tr>\n",
       "    <tr>\n",
       "      <th>Rast populacije</th>\n",
       "      <td>0.399256</td>\n",
       "      <td>0.592676</td>\n",
       "      <td>1.000000</td>\n",
       "    </tr>\n",
       "  </tbody>\n",
       "</table>\n",
       "</div>"
      ],
      "text/plain": [
       "                      GDP  Rast GDP  Rast populacije\n",
       "GDP              1.000000  0.383846         0.399256\n",
       "Rast GDP         0.383846  1.000000         0.592676\n",
       "Rast populacije  0.399256  0.592676         1.000000"
      ]
     },
     "execution_count": 11,
     "metadata": {},
     "output_type": "execute_result"
    }
   ],
   "source": [
    "najvecji = povprecne.tail(10)\n",
    "najvecji.corr()"
   ]
  },
  {
   "cell_type": "markdown",
   "metadata": {
    "collapsed": true
   },
   "source": [
    "V teh primerih je korelacija že večja, vendar to najverjetneje vseeno ni najboljši pokazatelj dejanskega stanja, zato si izberimo nekaj držav in za vsako izmed njih podrobneje analiziranjmo odvisnost rasti prebivalstva od rasti GDP."
   ]
  },
  {
   "cell_type": "code",
   "execution_count": 36,
   "metadata": {
    "collapsed": false
   },
   "outputs": [
    {
     "data": {
      "text/html": [
       "<div>\n",
       "<table border=\"1\" class=\"dataframe\">\n",
       "  <thead>\n",
       "    <tr style=\"text-align: right;\">\n",
       "      <th></th>\n",
       "      <th>GDP</th>\n",
       "      <th>Rast GDP</th>\n",
       "      <th>Rast prebivalstva</th>\n",
       "    </tr>\n",
       "  </thead>\n",
       "  <tbody>\n",
       "    <tr>\n",
       "      <th>GDP</th>\n",
       "      <td>1.000000</td>\n",
       "      <td>0.475617</td>\n",
       "      <td>-0.628132</td>\n",
       "    </tr>\n",
       "    <tr>\n",
       "      <th>Rast GDP</th>\n",
       "      <td>0.475617</td>\n",
       "      <td>1.000000</td>\n",
       "      <td>-0.606987</td>\n",
       "    </tr>\n",
       "    <tr>\n",
       "      <th>Rast prebivalstva</th>\n",
       "      <td>-0.628132</td>\n",
       "      <td>-0.606987</td>\n",
       "      <td>1.000000</td>\n",
       "    </tr>\n",
       "  </tbody>\n",
       "</table>\n",
       "</div>"
      ],
      "text/plain": [
       "                        GDP  Rast GDP  Rast prebivalstva\n",
       "GDP                1.000000  0.475617          -0.628132\n",
       "Rast GDP           0.475617  1.000000          -0.606987\n",
       "Rast prebivalstva -0.628132 -0.606987           1.000000"
      ]
     },
     "execution_count": 36,
     "metadata": {},
     "output_type": "execute_result"
    }
   ],
   "source": [
    "kongo = pd.concat([GDP.loc['Congo, Democratic Republic of the'], \n",
    "                   GDP_rast.loc['Congo, Democratic Republic of the'], \n",
    "                   populacija_rast.loc['Congo, Democratic Republic of the']\n",
    "                  ], axis=1) \n",
    "kongo.columns = ['GDP', 'Rast GDP', 'Rast prebivalstva']\n",
    "kongo.corr()"
   ]
  },
  {
   "cell_type": "code",
   "execution_count": 35,
   "metadata": {
    "collapsed": false
   },
   "outputs": [
    {
     "data": {
      "text/html": [
       "<div>\n",
       "<table border=\"1\" class=\"dataframe\">\n",
       "  <thead>\n",
       "    <tr style=\"text-align: right;\">\n",
       "      <th></th>\n",
       "      <th>GDP</th>\n",
       "      <th>Rast GDP</th>\n",
       "      <th>Rast prebivalstva</th>\n",
       "    </tr>\n",
       "  </thead>\n",
       "  <tbody>\n",
       "    <tr>\n",
       "      <th>GDP</th>\n",
       "      <td>1.000000</td>\n",
       "      <td>0.066954</td>\n",
       "      <td>-0.278831</td>\n",
       "    </tr>\n",
       "    <tr>\n",
       "      <th>Rast GDP</th>\n",
       "      <td>0.066954</td>\n",
       "      <td>1.000000</td>\n",
       "      <td>0.201563</td>\n",
       "    </tr>\n",
       "    <tr>\n",
       "      <th>Rast prebivalstva</th>\n",
       "      <td>-0.278831</td>\n",
       "      <td>0.201563</td>\n",
       "      <td>1.000000</td>\n",
       "    </tr>\n",
       "  </tbody>\n",
       "</table>\n",
       "</div>"
      ],
      "text/plain": [
       "                        GDP  Rast GDP  Rast prebivalstva\n",
       "GDP                1.000000  0.066954          -0.278831\n",
       "Rast GDP           0.066954  1.000000           0.201563\n",
       "Rast prebivalstva -0.278831  0.201563           1.000000"
      ]
     },
     "execution_count": 35,
     "metadata": {},
     "output_type": "execute_result"
    }
   ],
   "source": [
    "niger = pd.concat([GDP.loc['Niger'], \n",
    "                   GDP_rast.loc['Niger'], \n",
    "                   populacija_rast.loc['Niger']\n",
    "                  ], axis=1) \n",
    "niger.columns = ['GDP', 'Rast GDP', 'Rast prebivalstva']\n",
    "niger.corr()"
   ]
  },
  {
   "cell_type": "code",
   "execution_count": 40,
   "metadata": {
    "collapsed": false
   },
   "outputs": [
    {
     "data": {
      "text/html": [
       "<div>\n",
       "<table border=\"1\" class=\"dataframe\">\n",
       "  <thead>\n",
       "    <tr style=\"text-align: right;\">\n",
       "      <th></th>\n",
       "      <th>GDP</th>\n",
       "      <th>Rast GDP</th>\n",
       "      <th>Rast prebivalstva</th>\n",
       "    </tr>\n",
       "  </thead>\n",
       "  <tbody>\n",
       "    <tr>\n",
       "      <th>GDP</th>\n",
       "      <td>1.000000</td>\n",
       "      <td>-0.339688</td>\n",
       "      <td>-0.040091</td>\n",
       "    </tr>\n",
       "    <tr>\n",
       "      <th>Rast GDP</th>\n",
       "      <td>-0.339688</td>\n",
       "      <td>1.000000</td>\n",
       "      <td>0.573139</td>\n",
       "    </tr>\n",
       "    <tr>\n",
       "      <th>Rast prebivalstva</th>\n",
       "      <td>-0.040091</td>\n",
       "      <td>0.573139</td>\n",
       "      <td>1.000000</td>\n",
       "    </tr>\n",
       "  </tbody>\n",
       "</table>\n",
       "</div>"
      ],
      "text/plain": [
       "                        GDP  Rast GDP  Rast prebivalstva\n",
       "GDP                1.000000 -0.339688          -0.040091\n",
       "Rast GDP          -0.339688  1.000000           0.573139\n",
       "Rast prebivalstva -0.040091  0.573139           1.000000"
      ]
     },
     "execution_count": 40,
     "metadata": {},
     "output_type": "execute_result"
    }
   ],
   "source": [
    "slovenija = pd.concat([GDP.loc['Slovenia'], \n",
    "                   GDP_rast.loc['Slovenia'], \n",
    "                   populacija_rast.loc['Slovenia']\n",
    "                  ], axis=1) \n",
    "slovenija.columns = ['GDP', 'Rast GDP', 'Rast prebivalstva']\n",
    "slovenija.corr()"
   ]
  },
  {
   "cell_type": "code",
   "execution_count": 41,
   "metadata": {
    "collapsed": false
   },
   "outputs": [
    {
     "data": {
      "text/html": [
       "<div>\n",
       "<table border=\"1\" class=\"dataframe\">\n",
       "  <thead>\n",
       "    <tr style=\"text-align: right;\">\n",
       "      <th></th>\n",
       "      <th>GDP</th>\n",
       "      <th>Rast GDP</th>\n",
       "      <th>Rast prebivalstva</th>\n",
       "    </tr>\n",
       "  </thead>\n",
       "  <tbody>\n",
       "    <tr>\n",
       "      <th>GDP</th>\n",
       "      <td>1.000000</td>\n",
       "      <td>-0.277833</td>\n",
       "      <td>-0.785759</td>\n",
       "    </tr>\n",
       "    <tr>\n",
       "      <th>Rast GDP</th>\n",
       "      <td>-0.277833</td>\n",
       "      <td>1.000000</td>\n",
       "      <td>-0.025126</td>\n",
       "    </tr>\n",
       "    <tr>\n",
       "      <th>Rast prebivalstva</th>\n",
       "      <td>-0.785759</td>\n",
       "      <td>-0.025126</td>\n",
       "      <td>1.000000</td>\n",
       "    </tr>\n",
       "  </tbody>\n",
       "</table>\n",
       "</div>"
      ],
      "text/plain": [
       "                        GDP  Rast GDP  Rast prebivalstva\n",
       "GDP                1.000000 -0.277833          -0.785759\n",
       "Rast GDP          -0.277833  1.000000          -0.025126\n",
       "Rast prebivalstva -0.785759 -0.025126           1.000000"
      ]
     },
     "execution_count": 41,
     "metadata": {},
     "output_type": "execute_result"
    }
   ],
   "source": [
    "ZDA = pd.concat([GDP.loc['United States'], \n",
    "                   GDP_rast.loc['United States'], \n",
    "                   populacija_rast.loc['United States']\n",
    "                  ], axis=1) \n",
    "ZDA.columns = ['GDP', 'Rast GDP', 'Rast prebivalstva']\n",
    "ZDA.corr()"
   ]
  },
  {
   "cell_type": "code",
   "execution_count": 42,
   "metadata": {
    "collapsed": false
   },
   "outputs": [
    {
     "data": {
      "text/html": [
       "<div>\n",
       "<table border=\"1\" class=\"dataframe\">\n",
       "  <thead>\n",
       "    <tr style=\"text-align: right;\">\n",
       "      <th></th>\n",
       "      <th>GDP</th>\n",
       "      <th>Rast GDP</th>\n",
       "      <th>Rast prebivalstva</th>\n",
       "    </tr>\n",
       "  </thead>\n",
       "  <tbody>\n",
       "    <tr>\n",
       "      <th>GDP</th>\n",
       "      <td>1.000000</td>\n",
       "      <td>0.478420</td>\n",
       "      <td>-0.454708</td>\n",
       "    </tr>\n",
       "    <tr>\n",
       "      <th>Rast GDP</th>\n",
       "      <td>0.478420</td>\n",
       "      <td>1.000000</td>\n",
       "      <td>-0.780742</td>\n",
       "    </tr>\n",
       "    <tr>\n",
       "      <th>Rast prebivalstva</th>\n",
       "      <td>-0.454708</td>\n",
       "      <td>-0.780742</td>\n",
       "      <td>1.000000</td>\n",
       "    </tr>\n",
       "  </tbody>\n",
       "</table>\n",
       "</div>"
      ],
      "text/plain": [
       "                        GDP  Rast GDP  Rast prebivalstva\n",
       "GDP                1.000000  0.478420          -0.454708\n",
       "Rast GDP           0.478420  1.000000          -0.780742\n",
       "Rast prebivalstva -0.454708 -0.780742           1.000000"
      ]
     },
     "execution_count": 42,
     "metadata": {},
     "output_type": "execute_result"
    }
   ],
   "source": [
    "katar = pd.concat([GDP.loc['Qatar'], \n",
    "                   GDP_rast.loc['Qatar'], \n",
    "                   populacija_rast.loc['Qatar']\n",
    "                  ], axis=1) \n",
    "katar.columns = ['GDP', 'Rast GDP', 'Rast prebivalstva']\n",
    "katar.corr()"
   ]
  },
  {
   "cell_type": "code",
   "execution_count": 54,
   "metadata": {
    "collapsed": false
   },
   "outputs": [
    {
     "data": {
      "text/plain": [
       "<matplotlib.axes._subplots.AxesSubplot at 0x5de8090>"
      ]
     },
     "execution_count": 54,
     "metadata": {},
     "output_type": "execute_result"
    },
    {
     "data": {
      "image/png": "[encoded data removed]",
      "text/plain": [
       "<matplotlib.figure.Figure at 0x5dfb7f0>"
      ]
     },
     "metadata": {},
     "output_type": "display_data"
    }
   ],
   "source": [
    "kongo[['Rast GDP', 'Rast prebivalstva']].plot()"
   ]
  },
  {
   "cell_type": "code",
   "execution_count": null,
   "metadata": {
    "collapsed": true
   },
   "outputs": [],
   "source": []
  }
 ],
 "metadata": {
  "kernelspec": {
   "display_name": "Python 3",
   "language": "python",
   "name": "python3"
  },
  "language_info": {
   "codemirror_mode": {
    "name": "ipython",
    "version": 3
   },
   "file_extension": ".py",
   "mimetype": "text/x-python",
   "name": "python",
   "nbconvert_exporter": "python",
   "pygments_lexer": "ipython3",
   "version": "3.5.1"
  }
 },
 "nbformat": 4,
 "nbformat_minor": 0
}
