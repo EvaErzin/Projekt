{
 "cells": [
  {
   "cell_type": "code",
   "execution_count": null,
   "metadata": {
    "collapsed": true
   },
   "outputs": [],
   "source": []
  },
  {
   "cell_type": "code",
   "execution_count": 1,
   "metadata": {
    "collapsed": true
   },
   "outputs": [],
   "source": [
    "import pandas as pd\n",
    "\n",
    "pd.options.display.max_rows = 20\n",
    "pd.options.display.max_columns = 20\n",
    "\n",
    "GDP = pd.read_csv('csv-datoteke/GDP_na_prebivalca.csv', index_col='drzava')\n",
    "GDP_rast = pd.read_csv('csv-datoteke/GDP_rast.csv', index_col='drzava')\n",
    "populacija = pd.read_csv('csv-datoteke/populacija.csv', index_col='drzava')\n",
    "populacija_rast = pd.read_csv('csv-datoteke/rast_populacije.csv', index_col='drzava')"
   ]
  },
  {
   "cell_type": "code",
   "execution_count": 12,
   "metadata": {
    "collapsed": false
   },
   "outputs": [
    {
     "data": {
      "text/plain": [
       "drzava\n",
       "Barbados                     1.15\n",
       "Hong Kong                    4.42\n",
       "Bhutan                      10.33\n",
       "Kenya                        4.97\n",
       "Turks and Caicos Islands     6.79\n",
       "Israel                       4.00\n",
       "Nigeria                      6.53\n",
       "Nauru                        8.00\n",
       "Mozambique                   7.41\n",
       "Haiti                        0.90\n",
       "                            ...  \n",
       "Libya                       23.07\n",
       "Niger                        7.30\n",
       "Rwanda                       7.08\n",
       "India                        7.20\n",
       "Iran                         2.79\n",
       "Burkina Faso                 5.66\n",
       "Hungary                      1.30\n",
       "Spain                        0.86\n",
       "Serbia                       2.61\n",
       "Albania                      3.39\n",
       "dtype: float64"
      ]
     },
     "execution_count": 12,
     "metadata": {},
     "output_type": "execute_result"
    }
   ],
   "source": [
    "GDP_rast.mean(1)"
   ]
  },
  {
   "cell_type": "code",
   "execution_count": 18,
   "metadata": {
    "collapsed": false
   },
   "outputs": [
    {
     "data": {
      "text/html": [
       "<div>\n",
       "<table border=\"1\" class=\"dataframe\">\n",
       "  <thead>\n",
       "    <tr style=\"text-align: right;\">\n",
       "      <th></th>\n",
       "      <th>0</th>\n",
       "      <th>1</th>\n",
       "    </tr>\n",
       "  </thead>\n",
       "  <tbody>\n",
       "    <tr>\n",
       "      <th>Afghanistan</th>\n",
       "      <td>8.19</td>\n",
       "      <td>2.398750</td>\n",
       "    </tr>\n",
       "    <tr>\n",
       "      <th>Albania</th>\n",
       "      <td>3.39</td>\n",
       "      <td>0.347500</td>\n",
       "    </tr>\n",
       "    <tr>\n",
       "      <th>Algeria</th>\n",
       "      <td>3.66</td>\n",
       "      <td>1.537500</td>\n",
       "    </tr>\n",
       "    <tr>\n",
       "      <th>American Samoa</th>\n",
       "      <td>2.40</td>\n",
       "      <td>0.423750</td>\n",
       "    </tr>\n",
       "    <tr>\n",
       "      <th>Andorra</th>\n",
       "      <td>1.30</td>\n",
       "      <td>0.566250</td>\n",
       "    </tr>\n",
       "    <tr>\n",
       "      <th>Angola</th>\n",
       "      <td>9.49</td>\n",
       "      <td>2.430000</td>\n",
       "    </tr>\n",
       "    <tr>\n",
       "      <th>Anguilla</th>\n",
       "      <td>-1.02</td>\n",
       "      <td>2.167500</td>\n",
       "    </tr>\n",
       "    <tr>\n",
       "      <th>Antigua and Barbuda</th>\n",
       "      <td>1.68</td>\n",
       "      <td>1.278750</td>\n",
       "    </tr>\n",
       "    <tr>\n",
       "      <th>Argentina</th>\n",
       "      <td>5.67</td>\n",
       "      <td>1.005000</td>\n",
       "    </tr>\n",
       "    <tr>\n",
       "      <th>Armenia</th>\n",
       "      <td>7.41</td>\n",
       "      <td>-0.007500</td>\n",
       "    </tr>\n",
       "    <tr>\n",
       "      <th>...</th>\n",
       "      <td>...</td>\n",
       "      <td>...</td>\n",
       "    </tr>\n",
       "    <tr>\n",
       "      <th>Venezuela</th>\n",
       "      <td>3.70</td>\n",
       "      <td>1.467500</td>\n",
       "    </tr>\n",
       "    <tr>\n",
       "      <th>Vietnam</th>\n",
       "      <td>6.66</td>\n",
       "      <td>1.025000</td>\n",
       "    </tr>\n",
       "    <tr>\n",
       "      <th>Virgin Islands</th>\n",
       "      <td>1.26</td>\n",
       "      <td>-0.295000</td>\n",
       "    </tr>\n",
       "    <tr>\n",
       "      <th>Wallis and Futuna</th>\n",
       "      <td>NaN</td>\n",
       "      <td>0.350000</td>\n",
       "    </tr>\n",
       "    <tr>\n",
       "      <th>West Bank</th>\n",
       "      <td>3.55</td>\n",
       "      <td>2.083750</td>\n",
       "    </tr>\n",
       "    <tr>\n",
       "      <th>Western Sahara</th>\n",
       "      <td>NaN</td>\n",
       "      <td>2.958750</td>\n",
       "    </tr>\n",
       "    <tr>\n",
       "      <th>World</th>\n",
       "      <td>4.54</td>\n",
       "      <td>1.163333</td>\n",
       "    </tr>\n",
       "    <tr>\n",
       "      <th>Yemen</th>\n",
       "      <td>2.87</td>\n",
       "      <td>2.817500</td>\n",
       "    </tr>\n",
       "    <tr>\n",
       "      <th>Zambia</th>\n",
       "      <td>6.27</td>\n",
       "      <td>2.625000</td>\n",
       "    </tr>\n",
       "    <tr>\n",
       "      <th>Zimbabwe</th>\n",
       "      <td>-0.27</td>\n",
       "      <td>2.913750</td>\n",
       "    </tr>\n",
       "  </tbody>\n",
       "</table>\n",
       "<p>243 rows × 2 columns</p>\n",
       "</div>"
      ],
      "text/plain": [
       "                        0         1\n",
       "Afghanistan          8.19  2.398750\n",
       "Albania              3.39  0.347500\n",
       "Algeria              3.66  1.537500\n",
       "American Samoa       2.40  0.423750\n",
       "Andorra              1.30  0.566250\n",
       "Angola               9.49  2.430000\n",
       "Anguilla            -1.02  2.167500\n",
       "Antigua and Barbuda  1.68  1.278750\n",
       "Argentina            5.67  1.005000\n",
       "Armenia              7.41 -0.007500\n",
       "...                   ...       ...\n",
       "Venezuela            3.70  1.467500\n",
       "Vietnam              6.66  1.025000\n",
       "Virgin Islands       1.26 -0.295000\n",
       "Wallis and Futuna     NaN  0.350000\n",
       "West Bank            3.55  2.083750\n",
       "Western Sahara        NaN  2.958750\n",
       "World                4.54  1.163333\n",
       "Yemen                2.87  2.817500\n",
       "Zambia               6.27  2.625000\n",
       "Zimbabwe            -0.27  2.913750\n",
       "\n",
       "[243 rows x 2 columns]"
      ]
     },
     "execution_count": 18,
     "metadata": {},
     "output_type": "execute_result"
    }
   ],
   "source": [
    "pd.concat([GDP_rast.mean(1), populacija_rast.mean(1)], axis=1)"
   ]
  }
 ],
 "metadata": {
  "kernelspec": {
   "display_name": "Python 3",
   "language": "python",
   "name": "python3"
  },
  "language_info": {
   "codemirror_mode": {
    "name": "ipython",
    "version": 3
   },
   "file_extension": ".py",
   "mimetype": "text/x-python",
   "name": "python",
   "nbconvert_exporter": "python",
   "pygments_lexer": "ipython3",
   "version": "3.5.1"
  }
 },
 "nbformat": 4,
 "nbformat_minor": 0
}
